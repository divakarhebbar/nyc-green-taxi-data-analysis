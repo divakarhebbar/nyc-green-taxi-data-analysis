{
 "cells": [
  {
   "cell_type": "markdown",
   "metadata": {},
   "source": [
    "# New York City Green Taxi Data Analysis"
   ]
  },
  {
   "cell_type": "markdown",
   "metadata": {},
   "source": [
    "Analysis on the data collected by the New York City Taxi on Green Taxis. Green Taxis are the taxis that are not allowed to pick up passengers inside the densely populated areas of Manhattan. I will use the data from September 2015. \n",
    "\n",
    "I will be validating various hypotheses, examining patterns and also building a predictve model. I have mentioned the goal of each section at the outset of the sections."
   ]
  },
  {
   "cell_type": "markdown",
   "metadata": {
    "heading_collapsed": true
   },
   "source": [
    "## Imports"
   ]
  },
  {
   "cell_type": "code",
   "execution_count": 150,
   "metadata": {
    "hidden": true
   },
   "outputs": [],
   "source": [
    "#Importing libraries.\n",
    "\n",
    "import datetime as dt\n",
    "import os\n",
    "import pickle\n",
    "import urllib\n",
    "import warnings\n",
    "from datetime import datetime\n",
    "\n",
    "import matplotlib.pyplot as plt\n",
    "import numpy as np\n",
    "import pandas as pd\n",
    "import pylab\n",
    "import scipy.stats as st\n",
    "import seaborn as sns\n",
    "import statsmodels.api as sm\n",
    "from scipy import stats as st\n",
    "from scipy.stats import lognorm\n",
    "from geopy import distance as dist \n",
    "from sklearn import linear_model as lm\n",
    "from sklearn import metrics as mt\n",
    "from sklearn import svm\n",
    "from sklearn.ensemble import (GradientBoostingClassifier,\n",
    "                              RandomForestClassifier, RandomForestRegressor)\n",
    "from sklearn.feature_selection import RFE\n",
    "from sklearn.model_selection import GridSearchCV\n",
    "from sklearn.model_selection import cross_validate as cv\n",
    "from sklearn.model_selection import train_test_split\n",
    "from sklearn.naive_bayes import GaussianNB\n",
    "from sklearn.model_selection import validation_curve\n",
    "from statsmodels.stats.outliers_influence import variance_inflation_factor\n",
    "\n",
    "warnings.filterwarnings(\"ignore\")\n",
    "%matplotlib inline"
   ]
  },
  {
   "cell_type": "markdown",
   "metadata": {
    "heading_collapsed": true
   },
   "source": [
    "## Question 1: \n",
    "> Part A: Programmatically download and load into your favorite analytical tool the trip data for September 2015."
   ]
  },
  {
   "cell_type": "code",
   "execution_count": 2,
   "metadata": {
    "hidden": true
   },
   "outputs": [],
   "source": [
    "# Downloading data from the website if it's not present in the local directory already.\n",
    "\n",
    "if not os.path.exists(\"green_tripdata_2015-09.csv\"):\n",
    "    dataset_url = (\n",
    "        \"https://s3.amazonaws.com/nyc-tlc/trip+data/green_tripdata_2015-09.csv\"\n",
    "    )\n",
    "    urllib.request.urlretrieve(dataset_url, \"green_tripdata_2015-09.csv\")"
   ]
  },
  {
   "cell_type": "code",
   "execution_count": 3,
   "metadata": {
    "hidden": true
   },
   "outputs": [],
   "source": [
    "#Loading the downloaded dataset into a DataFrame.\n",
    "tripdata = pd.read_csv(\"green_tripdata_2015-09.csv\")"
   ]
  },
  {
   "cell_type": "code",
   "execution_count": 4,
   "metadata": {
    "hidden": true
   },
   "outputs": [
    {
     "data": {
      "text/html": [
       "<div>\n",
       "<style scoped>\n",
       "    .dataframe tbody tr th:only-of-type {\n",
       "        vertical-align: middle;\n",
       "    }\n",
       "\n",
       "    .dataframe tbody tr th {\n",
       "        vertical-align: top;\n",
       "    }\n",
       "\n",
       "    .dataframe thead th {\n",
       "        text-align: right;\n",
       "    }\n",
       "</style>\n",
       "<table border=\"1\" class=\"dataframe\">\n",
       "  <thead>\n",
       "    <tr style=\"text-align: right;\">\n",
       "      <th></th>\n",
       "      <th>VendorID</th>\n",
       "      <th>lpep_pickup_datetime</th>\n",
       "      <th>Lpep_dropoff_datetime</th>\n",
       "      <th>Store_and_fwd_flag</th>\n",
       "      <th>RateCodeID</th>\n",
       "      <th>Pickup_longitude</th>\n",
       "      <th>Pickup_latitude</th>\n",
       "      <th>Dropoff_longitude</th>\n",
       "      <th>Dropoff_latitude</th>\n",
       "      <th>Passenger_count</th>\n",
       "      <th>...</th>\n",
       "      <th>Fare_amount</th>\n",
       "      <th>Extra</th>\n",
       "      <th>MTA_tax</th>\n",
       "      <th>Tip_amount</th>\n",
       "      <th>Tolls_amount</th>\n",
       "      <th>Ehail_fee</th>\n",
       "      <th>improvement_surcharge</th>\n",
       "      <th>Total_amount</th>\n",
       "      <th>Payment_type</th>\n",
       "      <th>Trip_type</th>\n",
       "    </tr>\n",
       "  </thead>\n",
       "  <tbody>\n",
       "    <tr>\n",
       "      <th>0</th>\n",
       "      <td>2</td>\n",
       "      <td>2015-09-01 00:02:34</td>\n",
       "      <td>2015-09-01 00:02:38</td>\n",
       "      <td>N</td>\n",
       "      <td>5</td>\n",
       "      <td>-73.979485</td>\n",
       "      <td>40.684956</td>\n",
       "      <td>-73.979431</td>\n",
       "      <td>40.685020</td>\n",
       "      <td>1</td>\n",
       "      <td>...</td>\n",
       "      <td>7.8</td>\n",
       "      <td>0.0</td>\n",
       "      <td>0.0</td>\n",
       "      <td>1.95</td>\n",
       "      <td>0.0</td>\n",
       "      <td>NaN</td>\n",
       "      <td>0.0</td>\n",
       "      <td>9.75</td>\n",
       "      <td>1</td>\n",
       "      <td>2.0</td>\n",
       "    </tr>\n",
       "    <tr>\n",
       "      <th>1</th>\n",
       "      <td>2</td>\n",
       "      <td>2015-09-01 00:04:20</td>\n",
       "      <td>2015-09-01 00:04:24</td>\n",
       "      <td>N</td>\n",
       "      <td>5</td>\n",
       "      <td>-74.010796</td>\n",
       "      <td>40.912216</td>\n",
       "      <td>-74.010780</td>\n",
       "      <td>40.912212</td>\n",
       "      <td>1</td>\n",
       "      <td>...</td>\n",
       "      <td>45.0</td>\n",
       "      <td>0.0</td>\n",
       "      <td>0.0</td>\n",
       "      <td>0.00</td>\n",
       "      <td>0.0</td>\n",
       "      <td>NaN</td>\n",
       "      <td>0.0</td>\n",
       "      <td>45.00</td>\n",
       "      <td>1</td>\n",
       "      <td>2.0</td>\n",
       "    </tr>\n",
       "    <tr>\n",
       "      <th>2</th>\n",
       "      <td>2</td>\n",
       "      <td>2015-09-01 00:01:50</td>\n",
       "      <td>2015-09-01 00:04:24</td>\n",
       "      <td>N</td>\n",
       "      <td>1</td>\n",
       "      <td>-73.921410</td>\n",
       "      <td>40.766708</td>\n",
       "      <td>-73.914413</td>\n",
       "      <td>40.764687</td>\n",
       "      <td>1</td>\n",
       "      <td>...</td>\n",
       "      <td>4.0</td>\n",
       "      <td>0.5</td>\n",
       "      <td>0.5</td>\n",
       "      <td>0.50</td>\n",
       "      <td>0.0</td>\n",
       "      <td>NaN</td>\n",
       "      <td>0.3</td>\n",
       "      <td>5.80</td>\n",
       "      <td>1</td>\n",
       "      <td>1.0</td>\n",
       "    </tr>\n",
       "    <tr>\n",
       "      <th>3</th>\n",
       "      <td>2</td>\n",
       "      <td>2015-09-01 00:02:36</td>\n",
       "      <td>2015-09-01 00:06:42</td>\n",
       "      <td>N</td>\n",
       "      <td>1</td>\n",
       "      <td>-73.921387</td>\n",
       "      <td>40.766678</td>\n",
       "      <td>-73.931427</td>\n",
       "      <td>40.771584</td>\n",
       "      <td>1</td>\n",
       "      <td>...</td>\n",
       "      <td>5.0</td>\n",
       "      <td>0.5</td>\n",
       "      <td>0.5</td>\n",
       "      <td>0.00</td>\n",
       "      <td>0.0</td>\n",
       "      <td>NaN</td>\n",
       "      <td>0.3</td>\n",
       "      <td>6.30</td>\n",
       "      <td>2</td>\n",
       "      <td>1.0</td>\n",
       "    </tr>\n",
       "    <tr>\n",
       "      <th>4</th>\n",
       "      <td>2</td>\n",
       "      <td>2015-09-01 00:00:14</td>\n",
       "      <td>2015-09-01 00:04:20</td>\n",
       "      <td>N</td>\n",
       "      <td>1</td>\n",
       "      <td>-73.955482</td>\n",
       "      <td>40.714046</td>\n",
       "      <td>-73.944412</td>\n",
       "      <td>40.714729</td>\n",
       "      <td>1</td>\n",
       "      <td>...</td>\n",
       "      <td>5.0</td>\n",
       "      <td>0.5</td>\n",
       "      <td>0.5</td>\n",
       "      <td>0.00</td>\n",
       "      <td>0.0</td>\n",
       "      <td>NaN</td>\n",
       "      <td>0.3</td>\n",
       "      <td>6.30</td>\n",
       "      <td>2</td>\n",
       "      <td>1.0</td>\n",
       "    </tr>\n",
       "  </tbody>\n",
       "</table>\n",
       "<p>5 rows × 21 columns</p>\n",
       "</div>"
      ],
      "text/plain": [
       "   VendorID lpep_pickup_datetime Lpep_dropoff_datetime Store_and_fwd_flag  \\\n",
       "0         2  2015-09-01 00:02:34   2015-09-01 00:02:38                  N   \n",
       "1         2  2015-09-01 00:04:20   2015-09-01 00:04:24                  N   \n",
       "2         2  2015-09-01 00:01:50   2015-09-01 00:04:24                  N   \n",
       "3         2  2015-09-01 00:02:36   2015-09-01 00:06:42                  N   \n",
       "4         2  2015-09-01 00:00:14   2015-09-01 00:04:20                  N   \n",
       "\n",
       "   RateCodeID  Pickup_longitude  Pickup_latitude  Dropoff_longitude  \\\n",
       "0           5        -73.979485        40.684956         -73.979431   \n",
       "1           5        -74.010796        40.912216         -74.010780   \n",
       "2           1        -73.921410        40.766708         -73.914413   \n",
       "3           1        -73.921387        40.766678         -73.931427   \n",
       "4           1        -73.955482        40.714046         -73.944412   \n",
       "\n",
       "   Dropoff_latitude  Passenger_count  ...  Fare_amount  Extra  MTA_tax  \\\n",
       "0         40.685020                1  ...          7.8    0.0      0.0   \n",
       "1         40.912212                1  ...         45.0    0.0      0.0   \n",
       "2         40.764687                1  ...          4.0    0.5      0.5   \n",
       "3         40.771584                1  ...          5.0    0.5      0.5   \n",
       "4         40.714729                1  ...          5.0    0.5      0.5   \n",
       "\n",
       "   Tip_amount  Tolls_amount  Ehail_fee  improvement_surcharge  Total_amount  \\\n",
       "0        1.95           0.0        NaN                    0.0          9.75   \n",
       "1        0.00           0.0        NaN                    0.0         45.00   \n",
       "2        0.50           0.0        NaN                    0.3          5.80   \n",
       "3        0.00           0.0        NaN                    0.3          6.30   \n",
       "4        0.00           0.0        NaN                    0.3          6.30   \n",
       "\n",
       "   Payment_type  Trip_type   \n",
       "0             1         2.0  \n",
       "1             1         2.0  \n",
       "2             1         1.0  \n",
       "3             2         1.0  \n",
       "4             2         1.0  \n",
       "\n",
       "[5 rows x 21 columns]"
      ]
     },
     "execution_count": 4,
     "metadata": {},
     "output_type": "execute_result"
    }
   ],
   "source": [
    "#Verifying that we have the right data.\n",
    "tripdata.head()"
   ]
  },
  {
   "cell_type": "code",
   "execution_count": 5,
   "metadata": {
    "hidden": true
   },
   "outputs": [
    {
     "data": {
      "text/plain": [
       "Index(['VendorID', 'lpep_pickup_datetime', 'Lpep_dropoff_datetime',\n",
       "       'Store_and_fwd_flag', 'RateCodeID', 'Pickup_longitude',\n",
       "       'Pickup_latitude', 'Dropoff_longitude', 'Dropoff_latitude',\n",
       "       'Passenger_count', 'Trip_distance', 'Fare_amount', 'Extra', 'MTA_tax',\n",
       "       'Tip_amount', 'Tolls_amount', 'Ehail_fee', 'improvement_surcharge',\n",
       "       'Total_amount', 'Payment_type', 'Trip_type '],\n",
       "      dtype='object')"
      ]
     },
     "execution_count": 5,
     "metadata": {},
     "output_type": "execute_result"
    }
   ],
   "source": [
    "tripdata.columns"
   ]
  },
  {
   "cell_type": "code",
   "execution_count": 6,
   "metadata": {
    "hidden": true
   },
   "outputs": [
    {
     "name": "stdout",
     "output_type": "stream",
     "text": [
      "Number of rows: 1494926\n",
      "Number of Columns: 21\n"
     ]
    }
   ],
   "source": [
    "# Printing the number of rows and columns using DataFrame attribute: shape.\n",
    "print(\"Number of rows:\", tripdata.shape[0])\n",
    "print(\"Number of Columns:\", tripdata.shape[1])"
   ]
  },
  {
   "cell_type": "markdown",
   "metadata": {
    "hidden": true
   },
   "source": [
    "We have 1,494,926 rows and 21 columns in the dataset."
   ]
  },
  {
   "cell_type": "markdown",
   "metadata": {
    "heading_collapsed": true
   },
   "source": [
    "## Question 2:\n",
    "\n",
    ">Part A: Plot a histogram of the number of the trip distance (“Trip Distance”)."
   ]
  },
  {
   "cell_type": "code",
   "execution_count": 7,
   "metadata": {
    "hidden": true
   },
   "outputs": [
    {
     "data": {
      "text/plain": [
       "count    1.494926e+06\n",
       "mean     2.968141e+00\n",
       "std      3.076621e+00\n",
       "min      0.000000e+00\n",
       "25%      1.100000e+00\n",
       "50%      1.980000e+00\n",
       "75%      3.740000e+00\n",
       "max      6.031000e+02\n",
       "Name: Trip_distance, dtype: float64"
      ]
     },
     "execution_count": 7,
     "metadata": {},
     "output_type": "execute_result"
    }
   ],
   "source": [
    "tripdata['Trip_distance'].describe()"
   ]
  },
  {
   "cell_type": "code",
   "execution_count": 8,
   "metadata": {
    "hidden": true
   },
   "outputs": [
    {
     "data": {
      "image/png": "[encoded data removed]",
      "text/plain": [
       "<Figure size 432x288 with 1 Axes>"
      ]
     },
     "metadata": {
      "needs_background": "light"
     },
     "output_type": "display_data"
    }
   ],
   "source": [
    "# Plotting histogram of trip distance.\n",
    "plt.hist(tripdata[\"Trip_distance\"])\n",
    "plt.title('Histogram of the trip distance')\n",
    "plt.show()"
   ]
  },
  {
   "cell_type": "markdown",
   "metadata": {
    "hidden": true
   },
   "source": [
    "Clearly, we need to remove outliers to better visualize Trip distance. Let's investigate the outliers through a box plot."
   ]
  },
  {
   "cell_type": "code",
   "execution_count": 9,
   "metadata": {
    "hidden": true
   },
   "outputs": [
    {
     "data": {
      "text/plain": [
       "<matplotlib.axes._subplots.AxesSubplot at 0x107e85438>"
      ]
     },
     "execution_count": 9,
     "metadata": {},
     "output_type": "execute_result"
    },
    {
     "data": {
      "image/png": "[encoded data removed]",
      "text/plain": [
       "<Figure size 2160x144 with 1 Axes>"
      ]
     },
     "metadata": {
      "needs_background": "light"
     },
     "output_type": "display_data"
    }
   ],
   "source": [
    "plt.figure(figsize=[30,2])\n",
    "sns.boxplot(tripdata['Trip_distance'])"
   ]
  },
  {
   "cell_type": "code",
   "execution_count": 10,
   "metadata": {
    "hidden": true
   },
   "outputs": [
    {
     "name": "stdout",
     "output_type": "stream",
     "text": [
      "There are 20592 records with Trip distance being zero.\n"
     ]
    }
   ],
   "source": [
    "print(f\"There are {tripdata[tripdata['Trip_distance']==0].shape[0]} records with Trip distance being zero.\")"
   ]
  },
  {
   "cell_type": "markdown",
   "metadata": {
    "hidden": true
   },
   "source": [
    "Let's remove records where Trip distance is more than 4 standard deviations away from the mean. Four standard deviations account for 99.9% of the sample population, assuming that Trip distance is normally distributed. Morever, there are many records with Trip distance being 0. This probably have happened because of rounding off. Let's remove them as well."
   ]
  },
  {
   "cell_type": "code",
   "execution_count": 11,
   "metadata": {
    "hidden": true
   },
   "outputs": [],
   "source": [
    "#Removing records in which trip distance is 0.\n",
    "Trip_Distance = tripdata.Trip_distance[tripdata.Trip_distance>0]\n",
    "\n",
    "#Removing records in which trip distance is 3 standard deviations away from mean.\n",
    "Trip_Distance = Trip_Distance[(Trip_Distance-Trip_Distance.median()).abs() < 4*Trip_Distance.std()]"
   ]
  },
  {
   "cell_type": "code",
   "execution_count": 12,
   "metadata": {
    "hidden": true
   },
   "outputs": [
    {
     "data": {
      "image/png": "[encoded data removed]",
      "text/plain": [
       "<Figure size 432x288 with 1 Axes>"
      ]
     },
     "metadata": {
      "needs_background": "light"
     },
     "output_type": "display_data"
    }
   ],
   "source": [
    "#Plotting histogram with 40 bins.\n",
    "plt.hist(Trip_Distance,bins = 40)\n",
    "plt.title('Histogram of trip distance without outliers')\n",
    "plt.xlabel('Trip Distance (in miles)')\n",
    "plt.ylabel('Count')\n",
    "plt.show()"
   ]
  },
  {
   "cell_type": "markdown",
   "metadata": {
    "hidden": true
   },
   "source": [
    "It's evident from the above histogram that trip distance is distributed asymmetrically. In fact, it's skewed towards the right. It appears as though Trip distance follows log-normal distribution. In other words, logarithm of the trip distance follows normal distribution."
   ]
  },
  {
   "cell_type": "markdown",
   "metadata": {
    "hidden": true
   },
   "source": [
    "Let's try to examine our hypothesis by plotting the log of Trip distance."
   ]
  },
  {
   "cell_type": "code",
   "execution_count": 13,
   "metadata": {
    "hidden": true
   },
   "outputs": [
    {
     "data": {
      "image/png": "[encoded data removed]",
      "text/plain": [
       "<Figure size 432x288 with 1 Axes>"
      ]
     },
     "metadata": {
      "needs_background": "light"
     },
     "output_type": "display_data"
    }
   ],
   "source": [
    "#Plotting histogram with 40 bins.\n",
    "plt.hist(np.log(Trip_Distance),bins = 40)\n",
    "plt.title('Histogram of log(trip distance) without outliers')\n",
    "plt.xlabel('Trip Distance (in miles)')\n",
    "plt.ylabel('Count')\n",
    "plt.show()"
   ]
  },
  {
   "cell_type": "markdown",
   "metadata": {
    "hidden": true
   },
   "source": [
    "Let's plot a Q-Q plot (Quartile to Quartile Plot) to check whether Trip data is normally distributed."
   ]
  },
  {
   "cell_type": "code",
   "execution_count": 14,
   "metadata": {
    "hidden": true
   },
   "outputs": [
    {
     "data": {
      "image/png": "[encoded data removed]",
      "text/plain": [
       "<Figure size 432x288 with 1 Axes>"
      ]
     },
     "metadata": {
      "needs_background": "light"
     },
     "output_type": "display_data"
    }
   ],
   "source": [
    "st.probplot(np.log(Trip_Distance), dist=\"norm\", plot=pylab)\n",
    "pylab.show()"
   ]
  },
  {
   "cell_type": "markdown",
   "metadata": {
    "hidden": true
   },
   "source": [
    "Since the QQ plot of log of the trip data is reasonably a straight line, we can assert that trip data follows lognormal distribution."
   ]
  },
  {
   "cell_type": "markdown",
   "metadata": {
    "hidden": true
   },
   "source": [
    "###### Interpretation:\n",
    "Just to reiterate what I have already illustrated in the previous section, I hypothesise that Trip distance follows lognormal distribution (i.e right skewed). This is expected because trip distance is non-negative and starts from 0. Frequency of the trips decrease as trip distance increases. In fact, majority of the trips are of distance within 15 miles.  This is expected since most of the trips are intra-city and therefore short in distance. One more observation is that mean (2.97 miles) is larger median (1.98 miles). This is due to the presense of outliers (long distance trip)."
   ]
  },
  {
   "cell_type": "markdown",
   "metadata": {
    "heading_collapsed": true
   },
   "source": [
    "## Question 3\n",
    "\n",
    ">Part A: Report mean and median trip distance grouped by hour of day."
   ]
  },
  {
   "cell_type": "code",
   "execution_count": 15,
   "metadata": {
    "hidden": true
   },
   "outputs": [],
   "source": [
    "# Before performing aggregation, we need to extract date and hour from the datetime format.\n",
    "\n",
    "# Extracting pickup date and dropoff date.\n",
    "tripdata[\"Pickup_Date\"] = tripdata.lpep_pickup_datetime.apply(\n",
    "    lambda d: dt.datetime.strptime(d, \"%Y-%m-%d %H:%M:%S\")\n",
    ")\n",
    "tripdata[\"Dropoff_Date\"] = tripdata.Lpep_dropoff_datetime.apply(\n",
    "    lambda d: dt.datetime.strptime(d, \"%Y-%m-%d %H:%M:%S\")\n",
    ")\n",
    "\n",
    "# Creating a a new column for Pickup hour using the column created above.\n",
    "tripdata[\"Pickup_Hour\"] = tripdata.Pickup_Date.apply(lambda h: h.hour)"
   ]
  },
  {
   "cell_type": "code",
   "execution_count": 16,
   "metadata": {
    "hidden": true
   },
   "outputs": [
    {
     "data": {
      "image/png": "[encoded data removed]",
      "text/plain": [
       "<Figure size 720x432 with 1 Axes>"
      ]
     },
     "metadata": {
      "needs_background": "light"
     },
     "output_type": "display_data"
    },
    {
     "name": "stdout",
     "output_type": "stream",
     "text": [
      "Trip distance grouped by hour of the day: \n",
      "\n",
      " Hour_of_day  Mean_Trip_Distance  Median_Trip_Distance\n",
      "           0            3.115276                  2.20\n",
      "           1            3.017347                  2.12\n",
      "           2            3.046176                  2.14\n",
      "           3            3.212945                  2.20\n",
      "           4            3.526555                  2.36\n",
      "           5            4.133474                  2.90\n",
      "           6            4.055149                  2.84\n",
      "           7            3.284394                  2.17\n",
      "           8            3.048450                  1.98\n",
      "           9            2.999105                  1.96\n",
      "          10            2.944482                  1.92\n",
      "          11            2.912015                  1.88\n",
      "          12            2.903065                  1.89\n",
      "          13            2.878294                  1.84\n",
      "          14            2.864304                  1.83\n",
      "          15            2.857040                  1.81\n",
      "          16            2.779852                  1.80\n",
      "          17            2.679114                  1.78\n",
      "          18            2.653222                  1.80\n",
      "          19            2.715597                  1.85\n",
      "          20            2.777052                  1.90\n",
      "          21            2.999189                  2.03\n",
      "          22            3.185394                  2.20\n",
      "          23            3.191538                  2.22\n"
     ]
    }
   ],
   "source": [
    "# Pivot table method of dataframe to get aggregation of Trip distance by hour.\n",
    "Aggregation_Chart = tripdata.pivot_table(\n",
    "    index=\"Pickup_Hour\", values=\"Trip_distance\", aggfunc=(\"mean\", \"median\")\n",
    ").reset_index()\n",
    "\n",
    "figure, axes = plt.subplots(figsize=(10, 6))\n",
    "Aggregation_Chart.columns = [\n",
    "    \"Hour_of_day\",\n",
    "    \"Mean_Trip_Distance\",\n",
    "    \"Median_Trip_Distance\",\n",
    "]\n",
    "\n",
    "Aggregation_Chart[[\"Mean_Trip_Distance\", \"Median_Trip_Distance\"]].plot(ax=axes)\n",
    "plt.ylabel(\"Aggregated distance (miles)\")\n",
    "plt.xlabel(\"Hour of day\")\n",
    "plt.title(\"Trip distance as a function of pickup hour\")\n",
    "plt.xlim([0, 23])\n",
    "plt.show()\n",
    "print(\"Trip distance grouped by hour of the day: \\n\")\n",
    "\n",
    "print(Aggregation_Chart.to_string(index=False))\n"
   ]
  },
  {
   "cell_type": "markdown",
   "metadata": {
    "hidden": true
   },
   "source": [
    "###### Interpretation: \n",
    "\n",
    "The graph above shows the trip distance over different hours in the day. Clearly, the trip distance starts increasing at 3AM and peaks at 5AM. After that, it starts decreasing and reaches the nadir at around 5PM. After 5PM, it gradually starts increasing till midnight.\n",
    "\n",
    "We could observe long distance trips in both morning and late night though morning crest is significantly higher than that of late-night. We can posit that people commuting to work causes this crests in morning and late-night. The possible reason for morning crest being higher than the late-night crest is that people are more likely to call taxis in the morning in order to reach their workplace on time. It could also be that people who travel far away to work start their journey early in morning to avoid traffic. These people may resort to public transportation while turning to their home in the evening. We could investigate the NYC Subway data to prove/disprove this hypothesis.\n",
    "\n"
   ]
  },
  {
   "cell_type": "markdown",
   "metadata": {
    "hidden": true
   },
   "source": [
    ">Part B: We’d like to get a rough sense of identifying trips that originate or terminate at one of the NYC area airports. Can you provide a count of how many transactions fit this criteria, the average fare, and any other interesting characteristics of these trips."
   ]
  },
  {
   "cell_type": "markdown",
   "metadata": {
    "hidden": true
   },
   "source": [
    "I'll make an assumption that by NYC area the problem statement is referring to NYC metropolitan area. NYC metropolitan area has three major commercial airports.\n",
    "\n",
    "1. John F. Kennedy International Airport (JFK).\n",
    "2. Newark Liberty International Airport (EWR).\n",
    "3. LaGuardia Airport (LGA).\n",
    "\n",
    "Coordinates are as follows:\n",
    "\n",
    "1. JFK: 40.6413° N, 73.7781° W\n",
    "2. EWR: 40.6895° N, 74.1745° W\n",
    "3. LGA: 40.7769° N, 73.8740° W\n",
    "\n",
    "As I see it, there are two way to approach this problem.\n",
    "\n",
    "(a) RateCodeID column in the data tells us if the taxi is originated/terminated at JFK or Newark airport. This infomration is documented on NYC Taxi website. We can use this column to filter out the airport trips for our further analysis.\n",
    "\n",
    "(b) Making use of Pickup_longitude, Dropoff_longitude, Pickup_latitude, Dropoff_latitude columns in the dataset to figure out if any given trip originated/terminated in the vicinity of any of the airports.\n",
    "\n",
    "\n",
    "I will go with the approach (b) because it's a lot more comprehensive method. Also, through basic data investigation, I got the impression that RateCodeID is not a good feature to decide whether a trip is related to aiport or not.\n"
   ]
  },
  {
   "cell_type": "code",
   "execution_count": 17,
   "metadata": {
    "hidden": true
   },
   "outputs": [],
   "source": [
    "def trip_distance_AB(latitudeA, longitudeA, latitudeB, longitudeB):\n",
    "    \"\"\"\n",
    "    Calculates the distance between two geographcal locations A and B. Inputs: longitude and latitude.\n",
    "    \"\"\"\n",
    "    location_A = (latitudeA, longitudeA)\n",
    "    location_B = (latitudeB, longitudeB)\n",
    "    return dist.distance(location_A, location_B).miles\n",
    "\n",
    "\n",
    "def airport_proximity(latitude, longitude):\n",
    "    \"\"\"\n",
    "    Checks if the given coordinates is within 1.5 miles from three major airports.\n",
    "    \"\"\"\n",
    "\n",
    "    if (not isinstance(latitude, float)) or (\n",
    "        not isinstance(longitude, float)\n",
    "    ):  # Making sure that coordinates are of float data type.\n",
    "        return np.NaN\n",
    "    if (\n",
    "        trip_distance_AB(latitude, longitude, 40.6413, -73.7781) < 1.5\n",
    "    ):  # Cheking if the location is near JFK.\n",
    "        return \"JFK\"\n",
    "    elif (\n",
    "        trip_distance_AB(latitude, longitude, 40.6895, -74.1745) < 1.5\n",
    "    ):  # Cheking if the location is near EWR.\n",
    "        return \"EWR\"\n",
    "    elif (\n",
    "        trip_distance_AB(latitude, longitude, 40.7769, -73.8740) < 1.5\n",
    "    ):  # Cheking if the location is near LGA.\n",
    "        return \"LGA\"\n",
    "    else:\n",
    "        return np.NaN\n",
    "\n",
    "\n",
    "def airport_handling():\n",
    "    \"\"\"\n",
    "    Determines of a given trip is an airport trip.\n",
    "    Makes use of geopy library as well as the API functions written above.\n",
    "    \"\"\"\n",
    "\n",
    "    tripdata[\"Distance_derived\"] = tripdata.apply(\n",
    "        lambda p: trip_distance_AB(\n",
    "            p[\"Pickup_latitude\"],\n",
    "            p[\"Pickup_longitude\"],\n",
    "            p[\"Dropoff_latitude\"],\n",
    "            p[\"Dropoff_longitude\"],\n",
    "        ),\n",
    "        axis=1,\n",
    "    )\n",
    "\n",
    "    tripdata[\"Dropoff_airport\"] = tripdata.apply(\n",
    "        lambda d: airport_proximity(d[\"Dropoff_latitude\"], d[\"Dropoff_longitude\"]),\n",
    "        axis=1,\n",
    "    )\n",
    "    tripdata[\"Pickup_airport\"] = tripdata.apply(\n",
    "        lambda p: airport_proximity(p[\"Pickup_latitude\"], p[\"Pickup_longitude\"]), axis=1\n",
    "    )\n"
   ]
  },
  {
   "cell_type": "code",
   "execution_count": 18,
   "metadata": {
    "hidden": true
   },
   "outputs": [],
   "source": [
    "airport_handling()"
   ]
  },
  {
   "cell_type": "code",
   "execution_count": 19,
   "metadata": {
    "hidden": true
   },
   "outputs": [],
   "source": [
    "# Creating a column to indidcate whether a given trip is an airport related trip.\n",
    "\n",
    "tripdata[\"is_airport_trip\"] = (\n",
    "    (~tripdata[\"Dropoff_airport\"].isnull()) | (~tripdata[\"Pickup_airport\"].isnull())\n",
    ").astype(int)\n",
    "\n",
    "# Creating columns to indicate whether an each trip belongs to a particular airport (JFK, EWR, LGA).\n",
    "# These columns are to perform individual airport-level aggregation.\n",
    "\n",
    "tripdata[\"JFK_related_trip\"] = (\n",
    "    (tripdata[\"Dropoff_airport\"] == \"JFK\") | (tripdata[\"Pickup_airport\"] == \"JFK\")\n",
    ").astype(int)\n",
    "tripdata[\"EWR_related_trip\"] = (\n",
    "    (tripdata[\"Dropoff_airport\"] == \"EWR\") | (tripdata[\"Pickup_airport\"] == \"EWR\")\n",
    ").astype(int)\n",
    "tripdata[\"LGA_related_trip\"] = (\n",
    "    (tripdata[\"Dropoff_airport\"] == \"LGA\") | (tripdata[\"Pickup_airport\"] == \"LGA\")\n",
    ").astype(int)\n",
    "\n",
    "\n",
    "tripdata[\"JFK_related_trip\"] = tripdata[\"JFK_related_trip\"].map({1: \"JFK\"})\n",
    "tripdata[\"EWR_related_trip\"] = tripdata[\"EWR_related_trip\"].map({1: \"EWR\"})\n",
    "tripdata[\"LGA_related_trip\"] = tripdata[\"LGA_related_trip\"].map({1: \"LGA\"})\n",
    "\n",
    "cols = [\"JFK_related_trip\", \"EWR_related_trip\", \"LGA_related_trip\"]\n",
    "tripdata[\"Airport\"] = tripdata[cols].apply(lambda x: \"<-->\".join(x.dropna()), axis=1)\n",
    "tripdata[\"Airport\"] = tripdata[\"Airport\"].replace(\"\", \"Non-airport trip\", inplace=False)\n"
   ]
  },
  {
   "cell_type": "markdown",
   "metadata": {
    "hidden": true
   },
   "source": [
    "Now that the airport trips are identified, let's make some aggregation operations to get more insights about the nature of airport trips and non-airport trips."
   ]
  },
  {
   "cell_type": "code",
   "execution_count": 20,
   "metadata": {
    "hidden": true
   },
   "outputs": [
    {
     "data": {
      "text/plain": [
       "0    1427617\n",
       "1      67309\n",
       "Name: is_airport_trip, dtype: int64"
      ]
     },
     "execution_count": 20,
     "metadata": {},
     "output_type": "execute_result"
    }
   ],
   "source": [
    "tripdata.is_airport_trip.value_counts()"
   ]
  },
  {
   "cell_type": "code",
   "execution_count": 21,
   "metadata": {
    "hidden": true
   },
   "outputs": [
    {
     "data": {
      "text/plain": [
       "'4.50%'"
      ]
     },
     "execution_count": 21,
     "metadata": {},
     "output_type": "execute_result"
    }
   ],
   "source": [
    "#What percent of total trips are atually airport related?\n",
    "\"{:.2%}\".format(((len(tripdata[tripdata[\"is_airport_trip\"]==1]))/len(tripdata)))"
   ]
  },
  {
   "cell_type": "markdown",
   "metadata": {
    "hidden": true
   },
   "source": [
    "Total Airport related trips: 67,309.\n",
    "In other words, 4.5% of the trips are airport related."
   ]
  },
  {
   "cell_type": "code",
   "execution_count": 22,
   "metadata": {
    "hidden": true
   },
   "outputs": [
    {
     "data": {
      "text/html": [
       "<div>\n",
       "<style scoped>\n",
       "    .dataframe tbody tr th:only-of-type {\n",
       "        vertical-align: middle;\n",
       "    }\n",
       "\n",
       "    .dataframe tbody tr th {\n",
       "        vertical-align: top;\n",
       "    }\n",
       "\n",
       "    .dataframe thead th {\n",
       "        text-align: right;\n",
       "    }\n",
       "</style>\n",
       "<table border=\"1\" class=\"dataframe\">\n",
       "  <thead>\n",
       "    <tr style=\"text-align: right;\">\n",
       "      <th></th>\n",
       "      <th>Trip_distance</th>\n",
       "      <th>Fare_amount</th>\n",
       "      <th>Total_amount</th>\n",
       "      <th>Tip_amount</th>\n",
       "    </tr>\n",
       "    <tr>\n",
       "      <th>is_airport_trip</th>\n",
       "      <th></th>\n",
       "      <th></th>\n",
       "      <th></th>\n",
       "      <th></th>\n",
       "    </tr>\n",
       "  </thead>\n",
       "  <tbody>\n",
       "    <tr>\n",
       "      <th>0</th>\n",
       "      <td>2.821203</td>\n",
       "      <td>12.160601</td>\n",
       "      <td>14.568166</td>\n",
       "      <td>1.179655</td>\n",
       "    </tr>\n",
       "    <tr>\n",
       "      <th>1</th>\n",
       "      <td>6.084674</td>\n",
       "      <td>20.658024</td>\n",
       "      <td>24.873100</td>\n",
       "      <td>2.425001</td>\n",
       "    </tr>\n",
       "  </tbody>\n",
       "</table>\n",
       "</div>"
      ],
      "text/plain": [
       "                 Trip_distance  Fare_amount  Total_amount  Tip_amount\n",
       "is_airport_trip                                                      \n",
       "0                     2.821203    12.160601     14.568166    1.179655\n",
       "1                     6.084674    20.658024     24.873100    2.425001"
      ]
     },
     "execution_count": 22,
     "metadata": {},
     "output_type": "execute_result"
    }
   ],
   "source": [
    "tripdata.groupby(\"is_airport_trip\")[\"Trip_distance\", \"Fare_amount\", \"Total_amount\", \"Tip_amount\"].mean()"
   ]
  },
  {
   "cell_type": "markdown",
   "metadata": {
    "hidden": true
   },
   "source": [
    "\n",
    "Observation: The average fare for airport trips is \\\\$20.65 where as it's \\\\$12.16 for non-airport trips. The average tips for airport trips is \\\\$2.43 where as it's \\\\$1.18 for non-airport trips."
   ]
  },
  {
   "cell_type": "markdown",
   "metadata": {
    "hidden": true
   },
   "source": [
    "So far, we have understood that both trip distance and fare amounts are higher for airport related trips. Now the question is whether there's any significant variation based on specific airports. This is a real possibility since there are various varying factors based on the location of the airport.\n",
    "\n",
    "So, let's aggregate at individual airport level."
   ]
  },
  {
   "cell_type": "code",
   "execution_count": 23,
   "metadata": {
    "hidden": true
   },
   "outputs": [
    {
     "data": {
      "text/plain": [
       "Non-airport trip    1427617\n",
       "LGA                   53387\n",
       "JFK                   13090\n",
       "EWR                     730\n",
       "JFK<-->LGA               99\n",
       "EWR<-->LGA                3\n",
       "Name: Airport, dtype: int64"
      ]
     },
     "execution_count": 23,
     "metadata": {},
     "output_type": "execute_result"
    }
   ],
   "source": [
    "tripdata.Airport.value_counts()"
   ]
  },
  {
   "cell_type": "markdown",
   "metadata": {
    "hidden": true
   },
   "source": [
    "Let's plot a histogram for number of airport trips of different airports."
   ]
  },
  {
   "cell_type": "code",
   "execution_count": 24,
   "metadata": {
    "hidden": true
   },
   "outputs": [
    {
     "data": {
      "text/plain": [
       "<matplotlib.axes._subplots.AxesSubplot at 0x1c1e5d05c0>"
      ]
     },
     "execution_count": 24,
     "metadata": {},
     "output_type": "execute_result"
    },
    {
     "data": {
      "image/png": "[encoded data removed]",
      "text/plain": [
       "<Figure size 432x288 with 1 Axes>"
      ]
     },
     "metadata": {
      "needs_background": "light"
     },
     "output_type": "display_data"
    }
   ],
   "source": [
    "sns.countplot(x = \"Airport\", data = tripdata[tripdata[\"Airport\"]!=\"Non-airport trip\"])"
   ]
  },
  {
   "cell_type": "markdown",
   "metadata": {
    "hidden": true
   },
   "source": [
    "Interesting that around 80% of the airport trips are from LGA! JFK comes distant second with 19% share. EWR trips are less than 1%."
   ]
  },
  {
   "cell_type": "code",
   "execution_count": 25,
   "metadata": {
    "hidden": true
   },
   "outputs": [
    {
     "data": {
      "text/html": [
       "<div>\n",
       "<style scoped>\n",
       "    .dataframe tbody tr th:only-of-type {\n",
       "        vertical-align: middle;\n",
       "    }\n",
       "\n",
       "    .dataframe tbody tr th {\n",
       "        vertical-align: top;\n",
       "    }\n",
       "\n",
       "    .dataframe thead th {\n",
       "        text-align: right;\n",
       "    }\n",
       "</style>\n",
       "<table border=\"1\" class=\"dataframe\">\n",
       "  <thead>\n",
       "    <tr style=\"text-align: right;\">\n",
       "      <th></th>\n",
       "      <th>Trip_distance</th>\n",
       "      <th>Fare_amount</th>\n",
       "      <th>Total_amount</th>\n",
       "      <th>Tip_amount</th>\n",
       "    </tr>\n",
       "    <tr>\n",
       "      <th>Airport</th>\n",
       "      <th></th>\n",
       "      <th></th>\n",
       "      <th></th>\n",
       "      <th></th>\n",
       "    </tr>\n",
       "  </thead>\n",
       "  <tbody>\n",
       "    <tr>\n",
       "      <th>EWR</th>\n",
       "      <td>20.351000</td>\n",
       "      <td>75.761781</td>\n",
       "      <td>97.312370</td>\n",
       "      <td>11.412945</td>\n",
       "    </tr>\n",
       "    <tr>\n",
       "      <th>EWR&lt;--&gt;LGA</th>\n",
       "      <td>25.246667</td>\n",
       "      <td>82.000000</td>\n",
       "      <td>107.783333</td>\n",
       "      <td>9.136667</td>\n",
       "    </tr>\n",
       "    <tr>\n",
       "      <th>JFK</th>\n",
       "      <td>13.689311</td>\n",
       "      <td>41.356479</td>\n",
       "      <td>48.453845</td>\n",
       "      <td>5.148178</td>\n",
       "    </tr>\n",
       "    <tr>\n",
       "      <th>JFK&lt;--&gt;LGA</th>\n",
       "      <td>12.192626</td>\n",
       "      <td>27.945960</td>\n",
       "      <td>31.265960</td>\n",
       "      <td>2.653838</td>\n",
       "    </tr>\n",
       "    <tr>\n",
       "      <th>LGA</th>\n",
       "      <td>4.012609</td>\n",
       "      <td>14.812518</td>\n",
       "      <td>18.084289</td>\n",
       "      <td>1.633603</td>\n",
       "    </tr>\n",
       "    <tr>\n",
       "      <th>Non-airport trip</th>\n",
       "      <td>2.821203</td>\n",
       "      <td>12.160601</td>\n",
       "      <td>14.568166</td>\n",
       "      <td>1.179655</td>\n",
       "    </tr>\n",
       "  </tbody>\n",
       "</table>\n",
       "</div>"
      ],
      "text/plain": [
       "                  Trip_distance  Fare_amount  Total_amount  Tip_amount\n",
       "Airport                                                               \n",
       "EWR                   20.351000    75.761781     97.312370   11.412945\n",
       "EWR<-->LGA            25.246667    82.000000    107.783333    9.136667\n",
       "JFK                   13.689311    41.356479     48.453845    5.148178\n",
       "JFK<-->LGA            12.192626    27.945960     31.265960    2.653838\n",
       "LGA                    4.012609    14.812518     18.084289    1.633603\n",
       "Non-airport trip       2.821203    12.160601     14.568166    1.179655"
      ]
     },
     "execution_count": 25,
     "metadata": {},
     "output_type": "execute_result"
    }
   ],
   "source": [
    "tripdata.groupby(\"Airport\")[\"Trip_distance\", \"Fare_amount\", \"Total_amount\", \"Tip_amount\"].mean()"
   ]
  },
  {
   "cell_type": "markdown",
   "metadata": {
    "hidden": true
   },
   "source": [
    "Some observations:\n",
    "\n",
    "1. Are are a few trips which happen between two airports (for example, a trip between JFK and LGA). They are very small in number, so they wouln't affect the aggregation much.\n",
    "\n",
    "\n",
    "2. EWR airport related trips have the highest average trip distance, fair amount, and tips. JFK comes second. LGA occupies distant third spot. \n",
    "\n",
    "\n",
    "3. Average fair amount for EWR trips is \\\\$75.76 where as it's \\\\$41.35 for JFK trips. For LGA is \\\\$14.81. Fare amount is correlated with the respective average trip distance.\n",
    "\n",
    "\n",
    "4. One more interesting finding is that tip as percentage of total fare is also the order: EWR  > JFK  > LGA.  (11.72% > 10.62% > 9%)."
   ]
  },
  {
   "cell_type": "code",
   "execution_count": 26,
   "metadata": {
    "hidden": true
   },
   "outputs": [],
   "source": [
    "# Creating a new dataframe with just airport related trips for analysis.\n",
    "airport_trips = tripdata[tripdata[\"is_airport_trip\"] == 1]"
   ]
  },
  {
   "cell_type": "code",
   "execution_count": 27,
   "metadata": {
    "hidden": true
   },
   "outputs": [],
   "source": [
    "# Extracting distance column from both trips and non-airport trips.\n",
    "dist_airport = airport_trips.Trip_distance\n",
    "dist_non_airport = tripdata.loc[\n",
    "    ~tripdata.index.isin(dist_airport.index), \"Trip_distance\"\n",
    "]\n",
    "\n",
    "# Removal  of datapoints which at 4 standard deviations away from median point.\n",
    "dist_airport = dist_airport[\n",
    "    ~((dist_airport - dist_airport.median()).abs() > 4 * dist_airport.std())\n",
    "]\n",
    "dist_non_airport = dist_non_airport[\n",
    "    ~((dist_non_airport - dist_non_airport.median()).abs() > 4 * dist_non_airport.std())\n",
    "]"
   ]
  },
  {
   "cell_type": "code",
   "execution_count": 28,
   "metadata": {
    "hidden": true
   },
   "outputs": [
    {
     "data": {
      "image/png": "[encoded data removed]",
      "text/plain": [
       "<Figure size 936x360 with 1 Axes>"
      ]
     },
     "metadata": {
      "needs_background": "light"
     },
     "output_type": "display_data"
    }
   ],
   "source": [
    "# Plotting histogram\n",
    "\n",
    "bins = np.histogram(dist_airport, normed=True)[1]\n",
    "airport_hist = np.histogram(dist_airport, bins=bins, normed=True)\n",
    "non_airport_hist = np.histogram(dist_non_airport, bins=bins, normed=True)\n",
    "\n",
    "# plot distributions of trip distance normalized among both airport trips and non-airport trips.\n",
    "fig, axes = plt.subplots(1, 1, figsize=(13, 5))\n",
    "w = 0.4 * (bins[1] - bins[0])\n",
    "axes.bar(bins[:-1], airport_hist[0], alpha=1, width=w, color=\"r\")\n",
    "axes.bar(bins[:-1] + w, non_airport_hist[0], alpha=1, width=w, color=\"b\")\n",
    "axes.legend([\"Airport trips\", \"Non-airport trips\"])\n",
    "axes.set_xlabel(\"Trip Distance in miles\")\n",
    "axes.set_ylabel(\"Trips count (normalized)\")\n",
    "axes.set_title(\"Trip Distance histogram\")\n",
    "plt.show()\n"
   ]
  },
  {
   "cell_type": "code",
   "execution_count": 29,
   "metadata": {
    "hidden": true
   },
   "outputs": [
    {
     "data": {
      "image/png": "[encoded data removed]",
      "text/plain": [
       "<Figure size 936x360 with 1 Axes>"
      ]
     },
     "metadata": {
      "needs_background": "light"
     },
     "output_type": "display_data"
    }
   ],
   "source": [
    "# Plotting trip count across time of the day for both aiport trips and non-airport trips separately.\n",
    "\n",
    "fig, axes = plt.subplots(1, 1, figsize=(13, 5))\n",
    "airport_trips.Pickup_Hour.value_counts(normalize=True).sort_index().plot(ax=axes)\n",
    "tripdata.loc[~tripdata.index.isin(dist_airport.index), \"Pickup_Hour\"].value_counts(\n",
    "    normalize=True\n",
    ").sort_index().plot(ax=axes)\n",
    "axes.set_xlabel(\"Hour of the day\")\n",
    "axes.set_ylabel(\"Trip counts (normalized)\")\n",
    "axes.set_title(\" Hourly trips counts\")\n",
    "axes.legend([\"Airport trips\", \"Non-Airport trips\"])\n",
    "plt.show()\n"
   ]
  },
  {
   "cell_type": "markdown",
   "metadata": {
    "hidden": true
   },
   "source": [
    "#### Summary of analysis:\n",
    "\n",
    "1. 4.50% of the trips are airport related trips (in number, around 67,309 trips). Among airport related trips, 80% are generated by LGA airport.\n",
    "\n",
    "\n",
    "2. Average fare for airport trip is \\\\$20.65 where as it's \\\\$12.16 for non-airport trips. This is in agreement with the observation that average trip distance is significantly higher for airport trips (18 miles).This is most likely because of the fact that people visit the airports from distant inner city areas. \n",
    "\n",
    "\n",
    "3. Among airports, the average fare amount and tips are in the order: EWR > JFK > LGA. (More details are already provided during the analysis). The tip as a percent of total fair is also in the same order.\n",
    "\n",
    "\n",
    "3. Based on the plot, I observed that the number of airport related trips are minimal at 2AM where as non-airport trips hit nadir at 5AM. From here, the number of trips increases steadily for both airport and non-airport trips till evening. The airports trips are maximum around 4PM where as non-airport trips peaks at 6PM. Aftter that, it starts decreasing.  \n",
    "\n",
    "\n",
    "4. Airport trips follow the similar trend as the other trips for shorter distance trips.\n",
    "\n",
    "\n",
    "Notes: \n",
    "\n",
    "(a) Vital assumption in my analysis is that any trip whose pickup or drop point is within the 1.5 miles radius from the airport is an airport-related trip.\n",
    "\n",
    "(b) There are very few data points for EWR airports. So, we may not want to put forward very confident hypothesis about its aggregation.\n"
   ]
  },
  {
   "cell_type": "markdown",
   "metadata": {
    "heading_collapsed": true
   },
   "source": [
    "## Question 4\n",
    "\n",
    "> Part A:  Build a derived variable for tip as a percentage of the total fare."
   ]
  },
  {
   "cell_type": "markdown",
   "metadata": {
    "hidden": true
   },
   "source": [
    "Before we create the derived variable, let's check if there are any 0s in the Total_amount. Since we are dividing bt Total_amount, it's essential to take care of this."
   ]
  },
  {
   "cell_type": "code",
   "execution_count": 30,
   "metadata": {
    "hidden": true
   },
   "outputs": [
    {
     "data": {
      "text/plain": [
       "4172"
      ]
     },
     "execution_count": 30,
     "metadata": {},
     "output_type": "execute_result"
    }
   ],
   "source": [
    "tripdata[tripdata.Total_amount == 0].Total_amount.count()"
   ]
  },
  {
   "cell_type": "markdown",
   "metadata": {
    "hidden": true
   },
   "source": [
    "There are 4172 records with Total_amount being 0. Taxi website says that \\\\$2.5 is the initial charge. So, we need to remove the transactions in which total amount is less than $2.5."
   ]
  },
  {
   "cell_type": "code",
   "execution_count": 31,
   "metadata": {
    "hidden": true
   },
   "outputs": [],
   "source": [
    "# Removing transactions where total_amount is less than $2.5.\n",
    "tripdata = tripdata[(tripdata[\"Total_amount\"] >= 2.5)]"
   ]
  },
  {
   "cell_type": "code",
   "execution_count": 32,
   "metadata": {
    "hidden": true
   },
   "outputs": [],
   "source": [
    "tripdata['Tip_Percent'] = 100*(tripdata.Tip_amount/tripdata.Total_amount)"
   ]
  },
  {
   "cell_type": "code",
   "execution_count": 33,
   "metadata": {
    "hidden": true
   },
   "outputs": [
    {
     "name": "stdout",
     "output_type": "stream",
     "text": [
      "count    1.487767e+06\n",
      "mean     6.665932e+00\n",
      "std      8.875835e+00\n",
      "min      0.000000e+00\n",
      "25%      0.000000e+00\n",
      "50%      0.000000e+00\n",
      "75%      1.666667e+01\n",
      "max      1.000000e+02\n",
      "Name: Tip_Percent, dtype: float64\n"
     ]
    }
   ],
   "source": [
    "print(tripdata.Tip_Percent.describe())"
   ]
  },
  {
   "cell_type": "code",
   "execution_count": 34,
   "metadata": {
    "hidden": true
   },
   "outputs": [
    {
     "data": {
      "text/html": [
       "<div>\n",
       "<style scoped>\n",
       "    .dataframe tbody tr th:only-of-type {\n",
       "        vertical-align: middle;\n",
       "    }\n",
       "\n",
       "    .dataframe tbody tr th {\n",
       "        vertical-align: top;\n",
       "    }\n",
       "\n",
       "    .dataframe thead th {\n",
       "        text-align: right;\n",
       "    }\n",
       "</style>\n",
       "<table border=\"1\" class=\"dataframe\">\n",
       "  <thead>\n",
       "    <tr style=\"text-align: right;\">\n",
       "      <th></th>\n",
       "      <th>Tip_amount</th>\n",
       "      <th>Total_amount</th>\n",
       "      <th>Tip_Percent</th>\n",
       "    </tr>\n",
       "  </thead>\n",
       "  <tbody>\n",
       "    <tr>\n",
       "      <th>0</th>\n",
       "      <td>1.95</td>\n",
       "      <td>9.75</td>\n",
       "      <td>20.00000</td>\n",
       "    </tr>\n",
       "    <tr>\n",
       "      <th>1</th>\n",
       "      <td>0.00</td>\n",
       "      <td>45.00</td>\n",
       "      <td>0.00000</td>\n",
       "    </tr>\n",
       "    <tr>\n",
       "      <th>2</th>\n",
       "      <td>0.50</td>\n",
       "      <td>5.80</td>\n",
       "      <td>8.62069</td>\n",
       "    </tr>\n",
       "    <tr>\n",
       "      <th>3</th>\n",
       "      <td>0.00</td>\n",
       "      <td>6.30</td>\n",
       "      <td>0.00000</td>\n",
       "    </tr>\n",
       "    <tr>\n",
       "      <th>4</th>\n",
       "      <td>0.00</td>\n",
       "      <td>6.30</td>\n",
       "      <td>0.00000</td>\n",
       "    </tr>\n",
       "  </tbody>\n",
       "</table>\n",
       "</div>"
      ],
      "text/plain": [
       "   Tip_amount  Total_amount  Tip_Percent\n",
       "0        1.95          9.75     20.00000\n",
       "1        0.00         45.00      0.00000\n",
       "2        0.50          5.80      8.62069\n",
       "3        0.00          6.30      0.00000\n",
       "4        0.00          6.30      0.00000"
      ]
     },
     "execution_count": 34,
     "metadata": {},
     "output_type": "execute_result"
    }
   ],
   "source": [
    "tripdata[[\"Tip_amount\",\"Total_amount\",\"Tip_Percent\"]].head()"
   ]
  },
  {
   "cell_type": "markdown",
   "metadata": {
    "hidden": true
   },
   "source": [
    "A derived variable for tip as a percentage of the total fare has been created. The above header illustrates that it's properly implemented."
   ]
  },
  {
   "cell_type": "markdown",
   "metadata": {
    "hidden": true
   },
   "source": [
    ">Part B: Build a predictive model for tip as a percentage of the total fare. Use as much of the data as you like (or all of it). Provide an estimate of performance using an appropriate sample, and show your work."
   ]
  },
  {
   "cell_type": "markdown",
   "metadata": {
    "hidden": true
   },
   "source": [
    "It's a regression problem since Tip_Percent is a continuous variable.\n",
    "\n",
    "Target variable: Tip_Percent.\n",
    "\n",
    "Predictor varialbes: Yet do decide. Needs data preparation and feature engineering."
   ]
  },
  {
   "cell_type": "markdown",
   "metadata": {
    "hidden": true
   },
   "source": [
    "###### Step 1: Data Preparation\n",
    "\n",
    "Inclusing data cleaning, outliers removal, missing value handling."
   ]
  },
  {
   "cell_type": "code",
   "execution_count": 35,
   "metadata": {
    "hidden": true
   },
   "outputs": [
    {
     "data": {
      "text/plain": [
       "(1487767, 33)"
      ]
     },
     "execution_count": 35,
     "metadata": {},
     "output_type": "execute_result"
    }
   ],
   "source": [
    "tripdata.shape"
   ]
  },
  {
   "cell_type": "code",
   "execution_count": 36,
   "metadata": {
    "hidden": true
   },
   "outputs": [
    {
     "data": {
      "image/png": "[encoded data removed]",
      "text/plain": [
       "<Figure size 432x288 with 1 Axes>"
      ]
     },
     "metadata": {
      "needs_background": "light"
     },
     "output_type": "display_data"
    }
   ],
   "source": [
    "plt.hist(tripdata.Tip_Percent);"
   ]
  },
  {
   "cell_type": "markdown",
   "metadata": {
    "hidden": true
   },
   "source": [
    "Evidently, we have so many trips with 0% tipping. Let's see what percent of the trips have 0% tipping."
   ]
  },
  {
   "cell_type": "code",
   "execution_count": 37,
   "metadata": {
    "hidden": true
   },
   "outputs": [
    {
     "name": "stdout",
     "output_type": "stream",
     "text": [
      "0.5948821287204247 % trips have no tipping\n"
     ]
    }
   ],
   "source": [
    "print(f\"{len(tripdata[tripdata.Tip_Percent == 0])/len(tripdata)} % trips have no tipping\")"
   ]
  },
  {
   "cell_type": "markdown",
   "metadata": {
    "hidden": true
   },
   "source": [
    "Almost 60% of the trips have 0% tip! This is expected because the definition of Tip_amount provided in the data dictionary this field captures only credit card tips. Cash tips are not included. I presume that the objective of the problem is to predicted recorded credit card tips."
   ]
  },
  {
   "cell_type": "code",
   "execution_count": 38,
   "metadata": {
    "hidden": true
   },
   "outputs": [
    {
     "data": {
      "text/plain": [
       "Payment_type            -0.527676\n",
       "Trip_type               -0.010371\n",
       "Dropoff_longitude       -0.010167\n",
       "Extra                   -0.009743\n",
       "Pickup_latitude         -0.009706\n",
       "VendorID                -0.008553\n",
       "Pickup_Hour              0.000044\n",
       "MTA_tax                  0.001584\n",
       "Distance_derived         0.003326\n",
       "Dropoff_latitude         0.003821\n",
       "Pickup_longitude         0.004340\n",
       "Passenger_count          0.004592\n",
       "RateCodeID               0.005856\n",
       "improvement_surcharge    0.010628\n",
       "is_airport_trip          0.106139\n",
       "Tolls_amount             0.189300\n",
       "Trip_distance            0.390522\n",
       "Fare_amount              0.400603\n",
       "Total_amount             0.576460\n",
       "Tip_Percent              0.720367\n",
       "Tip_amount               1.000000\n",
       "Ehail_fee                     NaN\n",
       "Name: Tip_amount, dtype: float64"
      ]
     },
     "execution_count": 38,
     "metadata": {},
     "output_type": "execute_result"
    }
   ],
   "source": [
    "tripdata.corr()[\"Tip_amount\"].sort_values()"
   ]
  },
  {
   "cell_type": "markdown",
   "metadata": {
    "hidden": true
   },
   "source": [
    "Clearly,Tip_Percent is highly positively correlated with Tip_amount and Total_amount. Tip_Percent is highly negatively correlated with Payment_type. \n",
    "\n",
    "Though rest of predictors don't have very strong correlation, we can't just dismiss it. Because: (1) some of the predictors are categorical, so correlation coefficient doesn't make sense. (2) some features show correlation only after proper subset selection."
   ]
  },
  {
   "cell_type": "markdown",
   "metadata": {
    "hidden": true
   },
   "source": [
    "Let's see how many nulls we have in our data."
   ]
  },
  {
   "cell_type": "code",
   "execution_count": 39,
   "metadata": {
    "hidden": true
   },
   "outputs": [
    {
     "data": {
      "text/plain": [
       "VendorID                       0\n",
       "lpep_pickup_datetime           0\n",
       "Lpep_dropoff_datetime          0\n",
       "Store_and_fwd_flag             0\n",
       "RateCodeID                     0\n",
       "Pickup_longitude               0\n",
       "Pickup_latitude                0\n",
       "Dropoff_longitude              0\n",
       "Dropoff_latitude               0\n",
       "Passenger_count                0\n",
       "Trip_distance                  0\n",
       "Fare_amount                    0\n",
       "Extra                          0\n",
       "MTA_tax                        0\n",
       "Tip_amount                     0\n",
       "Tolls_amount                   0\n",
       "Ehail_fee                1487767\n",
       "improvement_surcharge          0\n",
       "Total_amount                   0\n",
       "Payment_type                   0\n",
       "Trip_type                      4\n",
       "Pickup_Date                    0\n",
       "Dropoff_Date                   0\n",
       "Pickup_Hour                    0\n",
       "Distance_derived               0\n",
       "Dropoff_airport          1427374\n",
       "Pickup_airport           1479463\n",
       "is_airport_trip                0\n",
       "JFK_related_trip         1474624\n",
       "EWR_related_trip         1487036\n",
       "LGA_related_trip         1434388\n",
       "Airport                        0\n",
       "Tip_Percent                    0\n",
       "dtype: int64"
      ]
     },
     "execution_count": 39,
     "metadata": {},
     "output_type": "execute_result"
    }
   ],
   "source": [
    "tripdata.isnull().sum()"
   ]
  },
  {
   "cell_type": "markdown",
   "metadata": {
    "hidden": true
   },
   "source": [
    "The Ehail_fee column contains only NaNs. It doesn't have any predictive power. So, let's just drop the column. "
   ]
  },
  {
   "cell_type": "code",
   "execution_count": 40,
   "metadata": {
    "hidden": true
   },
   "outputs": [],
   "source": [
    "# Deleting Ehail_fee if it exists. (if condition to avoid error in case of repeated compilation).\n",
    "if \"Ehail_fee\" in tripdata.columns:\n",
    "    tripdata.drop('Ehail_fee',inplace = True, axis = 1)"
   ]
  },
  {
   "cell_type": "markdown",
   "metadata": {
    "hidden": true
   },
   "source": [
    "Trip_type has a few NaNs. Let's replace them with the 1 (which is the most common type of trip, Street-hailing)."
   ]
  },
  {
   "cell_type": "code",
   "execution_count": 41,
   "metadata": {
    "hidden": true
   },
   "outputs": [],
   "source": [
    "# Replacing NaN with 1 in Trip_type.\n",
    "tripdata['Trip_type '] = tripdata['Trip_type '].replace(np.NaN, 1)"
   ]
  },
  {
   "cell_type": "code",
   "execution_count": 42,
   "metadata": {
    "hidden": true
   },
   "outputs": [
    {
     "data": {
      "text/plain": [
       "1     1451627\n",
       "5       29802\n",
       "2        4299\n",
       "3        1091\n",
       "4         912\n",
       "6          32\n",
       "99          4\n",
       "Name: RateCodeID, dtype: int64"
      ]
     },
     "execution_count": 42,
     "metadata": {},
     "output_type": "execute_result"
    }
   ],
   "source": [
    "tripdata[\"RateCodeID\"].value_counts()"
   ]
  },
  {
   "cell_type": "markdown",
   "metadata": {
    "hidden": true
   },
   "source": [
    "99 is not a valid code for RateCodeID as per the data dictionary. So, let's replace it with 1 (which represents Standard rate)."
   ]
  },
  {
   "cell_type": "code",
   "execution_count": 43,
   "metadata": {
    "hidden": true
   },
   "outputs": [],
   "source": [
    "#Replacing invalid RateCodeID of 99 with 1.\n",
    "tripdata.loc[tripdata[tripdata.RateCodeID == 99].index, \"RateCodeID\"] = 1"
   ]
  },
  {
   "cell_type": "markdown",
   "metadata": {
    "hidden": true
   },
   "source": [
    "Data dictionary says that \"Extra\" only includes the \\\\$0.50 and \\\\$1 rush hour and overnight charges. So, let's replace all values other than 0.5 and 1 by 0 (which is the most common in dataset)."
   ]
  },
  {
   "cell_type": "code",
   "execution_count": 44,
   "metadata": {
    "hidden": true
   },
   "outputs": [
    {
     "data": {
      "text/plain": [
       " 0.00     678629\n",
       " 0.50     566408\n",
       " 1.00     242727\n",
       " 12.00         1\n",
       "-0.72          1\n",
       " 0.25          1\n",
       "Name: Extra, dtype: int64"
      ]
     },
     "execution_count": 44,
     "metadata": {},
     "output_type": "execute_result"
    }
   ],
   "source": [
    "tripdata.Extra.value_counts()"
   ]
  },
  {
   "cell_type": "code",
   "execution_count": 45,
   "metadata": {
    "hidden": true
   },
   "outputs": [],
   "source": [
    "# Replacing invalid values by 0.\n",
    "tripdata.loc[\n",
    "    tripdata[\n",
    "        ~((tripdata.Extra == 0) | (tripdata.Extra == 0.5) | (tripdata.Extra == 1))\n",
    "    ].index,\n",
    "    \"Extra\",\n",
    "] = 0"
   ]
  },
  {
   "cell_type": "markdown",
   "metadata": {
    "hidden": true
   },
   "source": [
    "Investigation of the value ranges showed that the following features have negative values so many observations: features Total_amount, Fare_amount, Tip_amount, Tolls_amount, MTA_tax, Extra, improvement_surcharge. This is most likely due to human entry error. Let's convert the negative numbers into absolute values."
   ]
  },
  {
   "cell_type": "code",
   "execution_count": 46,
   "metadata": {
    "hidden": true
   },
   "outputs": [],
   "source": [
    "# Converting negative values into absolute values.\n",
    "features_with_negative_values = [\n",
    "    \"Total_amount\",\n",
    "    \"Fare_amount\",\n",
    "    \"Tip_amount\",\n",
    "    \"Tolls_amount\",\n",
    "    \"MTA_tax\",\n",
    "    \"Extra\",\n",
    "    \"improvement_surcharge\",\n",
    "    \"Tip_Percent\"\n",
    "]\n",
    "\n",
    "for f in features_with_negative_values:\n",
    "    tripdata[f] = tripdata[f].abs()"
   ]
  },
  {
   "cell_type": "markdown",
   "metadata": {
    "hidden": true
   },
   "source": [
    "###### Step 2: Feature Engineering and EDA"
   ]
  },
  {
   "cell_type": "markdown",
   "metadata": {
    "hidden": true
   },
   "source": [
    "Creating a Trip_duration feautre which is the time difference between dropoff and pickup for each trip."
   ]
  },
  {
   "cell_type": "code",
   "execution_count": 47,
   "metadata": {
    "hidden": true
   },
   "outputs": [],
   "source": [
    "# Getting duration of the trip by computng the difference between Dropoff time and Pickup time.\n",
    "tripdata[\"Trip_Duration\"] = (tripdata[\"Dropoff_Date\"] - tripdata[\"Pickup_Date\"]).apply(\n",
    "    lambda d: d.total_seconds() / 60.0\n",
    ")\n"
   ]
  },
  {
   "cell_type": "markdown",
   "metadata": {
    "hidden": true
   },
   "source": [
    "Before we divide distance by time to get the speed, let's see if there are any records with duration of trip being 0."
   ]
  },
  {
   "cell_type": "code",
   "execution_count": 48,
   "metadata": {
    "hidden": true
   },
   "outputs": [
    {
     "data": {
      "text/plain": [
       "995"
      ]
     },
     "execution_count": 48,
     "metadata": {},
     "output_type": "execute_result"
    }
   ],
   "source": [
    "tripdata[tripdata[\"Trip_Duration\"]==0][\"Trip_Duration\"].count()"
   ]
  },
  {
   "cell_type": "markdown",
   "metadata": {
    "hidden": true
   },
   "source": [
    "Let's remove these 995 records with 0 duration."
   ]
  },
  {
   "cell_type": "code",
   "execution_count": 49,
   "metadata": {
    "hidden": true
   },
   "outputs": [],
   "source": [
    "tripdata = tripdata[(tripdata[\"Trip_Duration\"] != 0)]"
   ]
  },
  {
   "cell_type": "code",
   "execution_count": 50,
   "metadata": {
    "hidden": true
   },
   "outputs": [],
   "source": [
    "# Creating a varialbe for average trip speed.\n",
    "tripdata['Trip_Speed'] = tripdata[\"Trip_distance\"]/(tripdata[\"Trip_Duration\"]/60)"
   ]
  },
  {
   "cell_type": "code",
   "execution_count": 51,
   "metadata": {
    "hidden": true
   },
   "outputs": [
    {
     "data": {
      "text/plain": [
       "<matplotlib.axes._subplots.AxesSubplot at 0x1c1e5ee3c8>"
      ]
     },
     "execution_count": 51,
     "metadata": {},
     "output_type": "execute_result"
    },
    {
     "data": {
      "image/png": "[encoded data removed]",
      "text/plain": [
       "<Figure size 2160x144 with 1 Axes>"
      ]
     },
     "metadata": {
      "needs_background": "light"
     },
     "output_type": "display_data"
    }
   ],
   "source": [
    "plt.figure(figsize=[30,2])\n",
    "sns.boxplot(tripdata['Trip_Speed'])"
   ]
  },
  {
   "cell_type": "markdown",
   "metadata": {
    "hidden": true
   },
   "source": [
    "It's inconceivable that the trip speed for around 2500 records is more than 150 MPH. Given the traffic congestion in NYC and also the imposed speed limit on Taxis, these figures could very well be errors. The closer inspection of the data revealed that these are the trips with minimal trip duration. That is to say that we don't have much confidence these records.\n",
    "\n",
    "Two options to get rid of this aberration.\n",
    "\n",
    "(1) Replace the trip speed for these obervations by median or by random sampling.\n",
    "\n",
    "(2) Delete these observations.\n",
    "\n",
    "Since we have more than a million records, we can sacrifice these 2.5k records. Let's go with option (2) and remove them."
   ]
  },
  {
   "cell_type": "code",
   "execution_count": 52,
   "metadata": {
    "hidden": true
   },
   "outputs": [
    {
     "data": {
      "text/plain": [
       "2429"
      ]
     },
     "execution_count": 52,
     "metadata": {},
     "output_type": "execute_result"
    }
   ],
   "source": [
    "tripdata[tripdata['Trip_Speed'] > 150].Trip_Speed.count()"
   ]
  },
  {
   "cell_type": "code",
   "execution_count": 53,
   "metadata": {
    "hidden": true
   },
   "outputs": [],
   "source": [
    "#Retaining only those records for which speed is less than 150mph.\n",
    "tripdata = tripdata[tripdata['Trip_Speed'] < 150]"
   ]
  },
  {
   "cell_type": "markdown",
   "metadata": {
    "hidden": true
   },
   "source": [
    "The day, week, and hour presumably impacts the tipping. So, let's create features for them using Pickup_date."
   ]
  },
  {
   "cell_type": "code",
   "execution_count": 54,
   "metadata": {
    "hidden": true
   },
   "outputs": [],
   "source": [
    "sept_2015_week_1 = datetime(2015,9,1).isocalendar()[1] \n",
    "\n",
    "#Pickup_Hour was already created for Q 3(a). Let's create other time related variables.\n",
    "tripdata['Pickup_Week'] = tripdata[\"Pickup_Date\"].apply(lambda w:w.isocalendar()[1]) - sept_2015_week_1 + 1 #1 to 5\n",
    "tripdata['Pickup_Monthly_day'] = tripdata[\"Pickup_Date\"].apply(lambda m:m.day) #1 to 30. (September has 30 days).\n",
    "tripdata['Pickup_Weekly_Day']  = tripdata[\"Pickup_Date\"].apply(lambda w:w.isocalendar()[2]) #1 to 7"
   ]
  },
  {
   "cell_type": "code",
   "execution_count": 55,
   "metadata": {
    "hidden": true
   },
   "outputs": [
    {
     "data": {
      "text/plain": [
       "Index(['VendorID', 'lpep_pickup_datetime', 'Lpep_dropoff_datetime',\n",
       "       'Store_and_fwd_flag', 'RateCodeID', 'Pickup_longitude',\n",
       "       'Pickup_latitude', 'Dropoff_longitude', 'Dropoff_latitude',\n",
       "       'Passenger_count', 'Trip_distance', 'Fare_amount', 'Extra', 'MTA_tax',\n",
       "       'Tip_amount', 'Tolls_amount', 'improvement_surcharge', 'Total_amount',\n",
       "       'Payment_type', 'Trip_type ', 'Pickup_Date', 'Dropoff_Date',\n",
       "       'Pickup_Hour', 'Distance_derived', 'Dropoff_airport', 'Pickup_airport',\n",
       "       'is_airport_trip', 'JFK_related_trip', 'EWR_related_trip',\n",
       "       'LGA_related_trip', 'Airport', 'Tip_Percent', 'Trip_Duration',\n",
       "       'Trip_Speed', 'Pickup_Week', 'Pickup_Monthly_day', 'Pickup_Weekly_Day'],\n",
       "      dtype='object')"
      ]
     },
     "execution_count": 55,
     "metadata": {},
     "output_type": "execute_result"
    }
   ],
   "source": [
    "tripdata.columns"
   ]
  },
  {
   "cell_type": "markdown",
   "metadata": {
    "hidden": true
   },
   "source": [
    "We have sevaral categorical predictor variables. Since they are not ordinal, ML algorithms can't make sense of these variables. Let's convert these varialbes into dummy/indicator varialbes using one-hot encoding. (The categorical variables that we have are mostly low cardinality variables, so we won't have the \"curse of dimensionality\" problem).\n",
    "\n",
    "While doing so, let's make sure to avoid multicolinearity by setting drop_first = True. This makes sure that only k-1 dummies out of k categorical levels are created by removing the first level. Doing this is essential because kth dummy varialve can be expressed as the linear combination of (k-1) dummy varialbes. In other words, kth variable doens't add any new precitive power."
   ]
  },
  {
   "cell_type": "code",
   "execution_count": 56,
   "metadata": {
    "hidden": true
   },
   "outputs": [],
   "source": [
    "# Renaming to remove the unwanted space at the end of column name.\n",
    "tripdata = tripdata.rename(columns={'Trip_type ': 'Trip_type'})\n",
    "\n",
    "# Conveting Trip_type from float to int.\n",
    "tripdata[\"Trip_type\"] = tripdata[\"Trip_type\"].astype(int)"
   ]
  },
  {
   "cell_type": "code",
   "execution_count": 57,
   "metadata": {
    "hidden": true
   },
   "outputs": [
    {
     "name": "stdout",
     "output_type": "stream",
     "text": [
      "VendorID  has unique values:  [2 1]\n",
      "Store_and_fwd_flag  has unique values:  ['N' 'Y']\n",
      "RateCodeID  has unique values:  [5 1 2 4 3 6]\n",
      "Payment_type  has unique values:  [1 2 3 4 5]\n",
      "Trip_type  has unique values:  [2 1]\n"
     ]
    }
   ],
   "source": [
    "# Listing the features which are categorical and needs one-hot encoding.\n",
    "categorical_features = [\"VendorID\",\"Store_and_fwd_flag\",\"RateCodeID\",\"Payment_type\", \"Trip_type\"]\n",
    "\n",
    "for item in categorical_features:\n",
    "    print(item, \" has unique values: \", tripdata[item].unique())"
   ]
  },
  {
   "cell_type": "code",
   "execution_count": 58,
   "metadata": {
    "hidden": true
   },
   "outputs": [],
   "source": [
    "# Creating categorical objects.\n",
    "\n",
    "VendorID_categories = [1,2]\n",
    "Store_and_fwd_flag_categories = [\"Y\",\"N\"]\n",
    "RateCodeID_categories = [1,2,3,4,5,6]\n",
    "Payment_type_categories = [1,2,3,4,5,6]\n",
    "Trip_type_categories = [1,2]\n",
    "\n",
    "\n",
    "for feature in categorical_features:\n",
    "    tripdata[feature] = pd.Series(tripdata[feature])\n",
    "    tripdata[feature] = tripdata[feature].astype('category', categories = globals()[feature +'_' + 'categories'])\n",
    "    \n",
    "tripdata = pd.get_dummies(tripdata, columns = categorical_features, drop_first = True)"
   ]
  },
  {
   "cell_type": "code",
   "execution_count": 59,
   "metadata": {
    "hidden": true
   },
   "outputs": [
    {
     "data": {
      "text/plain": [
       "45"
      ]
     },
     "execution_count": 59,
     "metadata": {},
     "output_type": "execute_result"
    }
   ],
   "source": [
    "len(list(tripdata))"
   ]
  },
  {
   "cell_type": "markdown",
   "metadata": {
    "hidden": true
   },
   "source": [
    "Clearly, we have highly correlated predictor variables. For example, we have two features Total_amount and Fare_amount which have a correlation coefficient of 0.97! \n",
    "\n",
    "This is problematic as correlated predictors cause **multicolinearity**. In simple terms, model becomes unstable when features are correlated with each other. We are concerned about the \"independent variation\" of predictor variable and its influence on tip percentage. When two predictors (like Total_amount and Fare_amount) are highly correlated,  we don't have independent variation. One of the predictors becomes redundant."
   ]
  },
  {
   "cell_type": "markdown",
   "metadata": {
    "hidden": true
   },
   "source": [
    "Let's check if Total_amount can be deduced perfectly from the rest of amounts."
   ]
  },
  {
   "cell_type": "code",
   "execution_count": 60,
   "metadata": {
    "hidden": true
   },
   "outputs": [],
   "source": [
    "tripdata[\"Deduced_Total_amount\"] = tripdata[\n",
    "    [\n",
    "        \"Fare_amount\",\n",
    "        \"Extra\",\n",
    "        \"MTA_tax\",\n",
    "        \"Tip_amount\",\n",
    "        \"Tolls_amount\",\n",
    "        \"improvement_surcharge\",\n",
    "    ]\n",
    "].sum(axis=1)"
   ]
  },
  {
   "cell_type": "code",
   "execution_count": 61,
   "metadata": {
    "hidden": true
   },
   "outputs": [
    {
     "data": {
      "text/plain": [
       "0.9999969629850343"
      ]
     },
     "execution_count": 61,
     "metadata": {},
     "output_type": "execute_result"
    }
   ],
   "source": [
    "tripdata['Deduced_Total_amount'].corr(tripdata['Total_amount'])"
   ]
  },
  {
   "cell_type": "markdown",
   "metadata": {
    "hidden": true
   },
   "source": [
    "Oh! Clearly, the Total_amount column gives away the Tip_amount if we use it in our model. This is a classic example of \"**Data leakage**\". The model built using all the columns including Total_amount would perform exceptionally well in predicting the tip amount, but such a model is worthless becasue Total_amount data would not be available during infernece time. \n",
    "\n",
    "In other words, the model can deduce the tip amount as a linear combination of the rest of columns.\n",
    "\n",
    "So, let's delete Total_amount column."
   ]
  },
  {
   "cell_type": "code",
   "execution_count": 63,
   "metadata": {
    "hidden": true
   },
   "outputs": [],
   "source": [
    "tripdata.drop([\"Total_amount\", \"Deduced_Total_amount\"], inplace=True, axis=1, errors=\"ignore\")"
   ]
  },
  {
   "cell_type": "code",
   "execution_count": 64,
   "metadata": {
    "hidden": true
   },
   "outputs": [
    {
     "data": {
      "text/html": [
       "<div>\n",
       "<style scoped>\n",
       "    .dataframe tbody tr th:only-of-type {\n",
       "        vertical-align: middle;\n",
       "    }\n",
       "\n",
       "    .dataframe tbody tr th {\n",
       "        vertical-align: top;\n",
       "    }\n",
       "\n",
       "    .dataframe thead th {\n",
       "        text-align: right;\n",
       "    }\n",
       "</style>\n",
       "<table border=\"1\" class=\"dataframe\">\n",
       "  <thead>\n",
       "    <tr style=\"text-align: right;\">\n",
       "      <th></th>\n",
       "      <th>lpep_pickup_datetime</th>\n",
       "      <th>Lpep_dropoff_datetime</th>\n",
       "      <th>Pickup_longitude</th>\n",
       "      <th>Pickup_latitude</th>\n",
       "      <th>Dropoff_longitude</th>\n",
       "      <th>Dropoff_latitude</th>\n",
       "      <th>Passenger_count</th>\n",
       "      <th>Trip_distance</th>\n",
       "      <th>Fare_amount</th>\n",
       "      <th>Extra</th>\n",
       "      <th>...</th>\n",
       "      <th>RateCodeID_3</th>\n",
       "      <th>RateCodeID_4</th>\n",
       "      <th>RateCodeID_5</th>\n",
       "      <th>RateCodeID_6</th>\n",
       "      <th>Payment_type_2</th>\n",
       "      <th>Payment_type_3</th>\n",
       "      <th>Payment_type_4</th>\n",
       "      <th>Payment_type_5</th>\n",
       "      <th>Payment_type_6</th>\n",
       "      <th>Trip_type_2</th>\n",
       "    </tr>\n",
       "  </thead>\n",
       "  <tbody>\n",
       "    <tr>\n",
       "      <th>0</th>\n",
       "      <td>2015-09-01 00:02:34</td>\n",
       "      <td>2015-09-01 00:02:38</td>\n",
       "      <td>-73.979485</td>\n",
       "      <td>40.684956</td>\n",
       "      <td>-73.979431</td>\n",
       "      <td>40.685020</td>\n",
       "      <td>1</td>\n",
       "      <td>0.00</td>\n",
       "      <td>7.8</td>\n",
       "      <td>0.0</td>\n",
       "      <td>...</td>\n",
       "      <td>0</td>\n",
       "      <td>0</td>\n",
       "      <td>1</td>\n",
       "      <td>0</td>\n",
       "      <td>0</td>\n",
       "      <td>0</td>\n",
       "      <td>0</td>\n",
       "      <td>0</td>\n",
       "      <td>0</td>\n",
       "      <td>1</td>\n",
       "    </tr>\n",
       "    <tr>\n",
       "      <th>1</th>\n",
       "      <td>2015-09-01 00:04:20</td>\n",
       "      <td>2015-09-01 00:04:24</td>\n",
       "      <td>-74.010796</td>\n",
       "      <td>40.912216</td>\n",
       "      <td>-74.010780</td>\n",
       "      <td>40.912212</td>\n",
       "      <td>1</td>\n",
       "      <td>0.00</td>\n",
       "      <td>45.0</td>\n",
       "      <td>0.0</td>\n",
       "      <td>...</td>\n",
       "      <td>0</td>\n",
       "      <td>0</td>\n",
       "      <td>1</td>\n",
       "      <td>0</td>\n",
       "      <td>0</td>\n",
       "      <td>0</td>\n",
       "      <td>0</td>\n",
       "      <td>0</td>\n",
       "      <td>0</td>\n",
       "      <td>1</td>\n",
       "    </tr>\n",
       "    <tr>\n",
       "      <th>2</th>\n",
       "      <td>2015-09-01 00:01:50</td>\n",
       "      <td>2015-09-01 00:04:24</td>\n",
       "      <td>-73.921410</td>\n",
       "      <td>40.766708</td>\n",
       "      <td>-73.914413</td>\n",
       "      <td>40.764687</td>\n",
       "      <td>1</td>\n",
       "      <td>0.59</td>\n",
       "      <td>4.0</td>\n",
       "      <td>0.5</td>\n",
       "      <td>...</td>\n",
       "      <td>0</td>\n",
       "      <td>0</td>\n",
       "      <td>0</td>\n",
       "      <td>0</td>\n",
       "      <td>0</td>\n",
       "      <td>0</td>\n",
       "      <td>0</td>\n",
       "      <td>0</td>\n",
       "      <td>0</td>\n",
       "      <td>0</td>\n",
       "    </tr>\n",
       "    <tr>\n",
       "      <th>3</th>\n",
       "      <td>2015-09-01 00:02:36</td>\n",
       "      <td>2015-09-01 00:06:42</td>\n",
       "      <td>-73.921387</td>\n",
       "      <td>40.766678</td>\n",
       "      <td>-73.931427</td>\n",
       "      <td>40.771584</td>\n",
       "      <td>1</td>\n",
       "      <td>0.74</td>\n",
       "      <td>5.0</td>\n",
       "      <td>0.5</td>\n",
       "      <td>...</td>\n",
       "      <td>0</td>\n",
       "      <td>0</td>\n",
       "      <td>0</td>\n",
       "      <td>0</td>\n",
       "      <td>1</td>\n",
       "      <td>0</td>\n",
       "      <td>0</td>\n",
       "      <td>0</td>\n",
       "      <td>0</td>\n",
       "      <td>0</td>\n",
       "    </tr>\n",
       "    <tr>\n",
       "      <th>4</th>\n",
       "      <td>2015-09-01 00:00:14</td>\n",
       "      <td>2015-09-01 00:04:20</td>\n",
       "      <td>-73.955482</td>\n",
       "      <td>40.714046</td>\n",
       "      <td>-73.944412</td>\n",
       "      <td>40.714729</td>\n",
       "      <td>1</td>\n",
       "      <td>0.61</td>\n",
       "      <td>5.0</td>\n",
       "      <td>0.5</td>\n",
       "      <td>...</td>\n",
       "      <td>0</td>\n",
       "      <td>0</td>\n",
       "      <td>0</td>\n",
       "      <td>0</td>\n",
       "      <td>1</td>\n",
       "      <td>0</td>\n",
       "      <td>0</td>\n",
       "      <td>0</td>\n",
       "      <td>0</td>\n",
       "      <td>0</td>\n",
       "    </tr>\n",
       "  </tbody>\n",
       "</table>\n",
       "<p>5 rows × 44 columns</p>\n",
       "</div>"
      ],
      "text/plain": [
       "  lpep_pickup_datetime Lpep_dropoff_datetime  Pickup_longitude  \\\n",
       "0  2015-09-01 00:02:34   2015-09-01 00:02:38        -73.979485   \n",
       "1  2015-09-01 00:04:20   2015-09-01 00:04:24        -74.010796   \n",
       "2  2015-09-01 00:01:50   2015-09-01 00:04:24        -73.921410   \n",
       "3  2015-09-01 00:02:36   2015-09-01 00:06:42        -73.921387   \n",
       "4  2015-09-01 00:00:14   2015-09-01 00:04:20        -73.955482   \n",
       "\n",
       "   Pickup_latitude  Dropoff_longitude  Dropoff_latitude  Passenger_count  \\\n",
       "0        40.684956         -73.979431         40.685020                1   \n",
       "1        40.912216         -74.010780         40.912212                1   \n",
       "2        40.766708         -73.914413         40.764687                1   \n",
       "3        40.766678         -73.931427         40.771584                1   \n",
       "4        40.714046         -73.944412         40.714729                1   \n",
       "\n",
       "   Trip_distance  Fare_amount  Extra  ...  RateCodeID_3  RateCodeID_4  \\\n",
       "0           0.00          7.8    0.0  ...             0             0   \n",
       "1           0.00         45.0    0.0  ...             0             0   \n",
       "2           0.59          4.0    0.5  ...             0             0   \n",
       "3           0.74          5.0    0.5  ...             0             0   \n",
       "4           0.61          5.0    0.5  ...             0             0   \n",
       "\n",
       "   RateCodeID_5  RateCodeID_6 Payment_type_2 Payment_type_3  Payment_type_4  \\\n",
       "0             1             0              0              0               0   \n",
       "1             1             0              0              0               0   \n",
       "2             0             0              0              0               0   \n",
       "3             0             0              1              0               0   \n",
       "4             0             0              1              0               0   \n",
       "\n",
       "   Payment_type_5 Payment_type_6 Trip_type_2  \n",
       "0               0              0           1  \n",
       "1               0              0           1  \n",
       "2               0              0           0  \n",
       "3               0              0           0  \n",
       "4               0              0           0  \n",
       "\n",
       "[5 rows x 44 columns]"
      ]
     },
     "execution_count": 64,
     "metadata": {},
     "output_type": "execute_result"
    }
   ],
   "source": [
    "tripdata.head()"
   ]
  },
  {
   "cell_type": "code",
   "execution_count": 65,
   "metadata": {
    "hidden": true
   },
   "outputs": [
    {
     "data": {
      "text/plain": [
       "Index(['lpep_pickup_datetime', 'Lpep_dropoff_datetime', 'Pickup_longitude',\n",
       "       'Pickup_latitude', 'Dropoff_longitude', 'Dropoff_latitude',\n",
       "       'Passenger_count', 'Trip_distance', 'Fare_amount', 'Extra', 'MTA_tax',\n",
       "       'Tip_amount', 'Tolls_amount', 'improvement_surcharge', 'Pickup_Date',\n",
       "       'Dropoff_Date', 'Pickup_Hour', 'Distance_derived', 'Dropoff_airport',\n",
       "       'Pickup_airport', 'is_airport_trip', 'JFK_related_trip',\n",
       "       'EWR_related_trip', 'LGA_related_trip', 'Airport', 'Tip_Percent',\n",
       "       'Trip_Duration', 'Trip_Speed', 'Pickup_Week', 'Pickup_Monthly_day',\n",
       "       'Pickup_Weekly_Day', 'VendorID_2', 'Store_and_fwd_flag_N',\n",
       "       'RateCodeID_2', 'RateCodeID_3', 'RateCodeID_4', 'RateCodeID_5',\n",
       "       'RateCodeID_6', 'Payment_type_2', 'Payment_type_3', 'Payment_type_4',\n",
       "       'Payment_type_5', 'Payment_type_6', 'Trip_type_2'],\n",
       "      dtype='object')"
      ]
     },
     "execution_count": 65,
     "metadata": {},
     "output_type": "execute_result"
    }
   ],
   "source": [
    "tripdata.columns"
   ]
  },
  {
   "cell_type": "code",
   "execution_count": 66,
   "metadata": {
    "hidden": true
   },
   "outputs": [
    {
     "data": {
      "text/plain": [
       "array([nan, 'LGA'], dtype=object)"
      ]
     },
     "execution_count": 66,
     "metadata": {},
     "output_type": "execute_result"
    }
   ],
   "source": [
    "tripdata.LGA_related_trip.unique()"
   ]
  },
  {
   "cell_type": "code",
   "execution_count": 67,
   "metadata": {
    "hidden": true
   },
   "outputs": [],
   "source": [
    "tripdata['JFK_related_trip'] = tripdata['JFK_related_trip'].replace(np.NaN, 0)\n",
    "tripdata['JFK_related_trip'] = tripdata['JFK_related_trip'].replace(\"JFK\", 1)\n",
    "\n",
    "tripdata['EWR_related_trip'] = tripdata['EWR_related_trip'].replace(np.NaN, 0)\n",
    "tripdata['EWR_related_trip'] = tripdata['EWR_related_trip'].replace(\"EWR\", 1)\n",
    "\n",
    "tripdata['LGA_related_trip'] = tripdata['LGA_related_trip'].replace(np.NaN, 0)\n",
    "tripdata['LGA_related_trip'] = tripdata['LGA_related_trip'].replace(\"LGA\", 1)"
   ]
  },
  {
   "cell_type": "code",
   "execution_count": 68,
   "metadata": {
    "hidden": true
   },
   "outputs": [
    {
     "data": {
      "text/plain": [
       "array(['Non-airport trip', 'LGA', 'JFK', 'JFK<-->LGA', 'EWR',\n",
       "       'EWR<-->LGA'], dtype=object)"
      ]
     },
     "execution_count": 68,
     "metadata": {},
     "output_type": "execute_result"
    }
   ],
   "source": [
    "tripdata.Airport.unique()"
   ]
  },
  {
   "cell_type": "markdown",
   "metadata": {
    "hidden": true
   },
   "source": [
    "To get rid of redundant predictors, let's use **Variance Inflation Factor (VIF)**. This is a measure which tells the severity of multicolinearity. Higher the VIF, higher the severity of multicolinearity. Let's create a new dataframe with plausible predictor list to feed as input for VIF checking function."
   ]
  },
  {
   "cell_type": "code",
   "execution_count": 77,
   "metadata": {
    "hidden": true
   },
   "outputs": [],
   "source": [
    "#Making a list of predictors which could be used in modelling.\n",
    "\n",
    "predictor_list = [\"Passenger_count\", \"Trip_distance\", \"Fare_amount\", \"Extra\", \"MTA_tax\", \"Tolls_amount\",\n",
    "                 \"improvement_surcharge\", \"Pickup_Hour\", \"JFK_related_trip\", \"EWR_related_trip\", \n",
    "                 \"LGA_related_trip\", \"Trip_Duration\", \"Trip_Speed\", \"Pickup_Week\", \"Pickup_Monthly_day\", \n",
    "                  \"Pickup_Weekly_Day\", \"VendorID_2\", \"Store_and_fwd_flag_N\", \"RateCodeID_2\", \"RateCodeID_3\",\n",
    "                 \"RateCodeID_4\", \"RateCodeID_5\", \"RateCodeID_6\", \"Payment_type_2\", \"Payment_type_3\", \"Payment_type_4\",\n",
    "                 \"Payment_type_5\", \"Payment_type_6\", \"Trip_type_2\"]\n",
    "\n",
    "df = tripdata[predictor_list]"
   ]
  },
  {
   "cell_type": "code",
   "execution_count": 80,
   "metadata": {
    "hidden": true
   },
   "outputs": [
    {
     "data": {
      "text/html": [
       "<div>\n",
       "<style scoped>\n",
       "    .dataframe tbody tr th:only-of-type {\n",
       "        vertical-align: middle;\n",
       "    }\n",
       "\n",
       "    .dataframe tbody tr th {\n",
       "        vertical-align: top;\n",
       "    }\n",
       "\n",
       "    .dataframe thead th {\n",
       "        text-align: right;\n",
       "    }\n",
       "</style>\n",
       "<table border=\"1\" class=\"dataframe\">\n",
       "  <thead>\n",
       "    <tr style=\"text-align: right;\">\n",
       "      <th></th>\n",
       "      <th>Passenger_count</th>\n",
       "      <th>Trip_distance</th>\n",
       "      <th>Fare_amount</th>\n",
       "      <th>Extra</th>\n",
       "      <th>MTA_tax</th>\n",
       "      <th>Tolls_amount</th>\n",
       "      <th>improvement_surcharge</th>\n",
       "      <th>Pickup_Hour</th>\n",
       "      <th>JFK_related_trip</th>\n",
       "      <th>EWR_related_trip</th>\n",
       "      <th>...</th>\n",
       "      <th>RateCodeID_3</th>\n",
       "      <th>RateCodeID_4</th>\n",
       "      <th>RateCodeID_5</th>\n",
       "      <th>RateCodeID_6</th>\n",
       "      <th>Payment_type_2</th>\n",
       "      <th>Payment_type_3</th>\n",
       "      <th>Payment_type_4</th>\n",
       "      <th>Payment_type_5</th>\n",
       "      <th>Payment_type_6</th>\n",
       "      <th>Trip_type_2</th>\n",
       "    </tr>\n",
       "  </thead>\n",
       "  <tbody>\n",
       "    <tr>\n",
       "      <th>0</th>\n",
       "      <td>1</td>\n",
       "      <td>0.00</td>\n",
       "      <td>7.8</td>\n",
       "      <td>0.0</td>\n",
       "      <td>0.0</td>\n",
       "      <td>0.0</td>\n",
       "      <td>0.0</td>\n",
       "      <td>0</td>\n",
       "      <td>0</td>\n",
       "      <td>0</td>\n",
       "      <td>...</td>\n",
       "      <td>0</td>\n",
       "      <td>0</td>\n",
       "      <td>1</td>\n",
       "      <td>0</td>\n",
       "      <td>0</td>\n",
       "      <td>0</td>\n",
       "      <td>0</td>\n",
       "      <td>0</td>\n",
       "      <td>0</td>\n",
       "      <td>1</td>\n",
       "    </tr>\n",
       "    <tr>\n",
       "      <th>1</th>\n",
       "      <td>1</td>\n",
       "      <td>0.00</td>\n",
       "      <td>45.0</td>\n",
       "      <td>0.0</td>\n",
       "      <td>0.0</td>\n",
       "      <td>0.0</td>\n",
       "      <td>0.0</td>\n",
       "      <td>0</td>\n",
       "      <td>0</td>\n",
       "      <td>0</td>\n",
       "      <td>...</td>\n",
       "      <td>0</td>\n",
       "      <td>0</td>\n",
       "      <td>1</td>\n",
       "      <td>0</td>\n",
       "      <td>0</td>\n",
       "      <td>0</td>\n",
       "      <td>0</td>\n",
       "      <td>0</td>\n",
       "      <td>0</td>\n",
       "      <td>1</td>\n",
       "    </tr>\n",
       "    <tr>\n",
       "      <th>2</th>\n",
       "      <td>1</td>\n",
       "      <td>0.59</td>\n",
       "      <td>4.0</td>\n",
       "      <td>0.5</td>\n",
       "      <td>0.5</td>\n",
       "      <td>0.0</td>\n",
       "      <td>0.3</td>\n",
       "      <td>0</td>\n",
       "      <td>0</td>\n",
       "      <td>0</td>\n",
       "      <td>...</td>\n",
       "      <td>0</td>\n",
       "      <td>0</td>\n",
       "      <td>0</td>\n",
       "      <td>0</td>\n",
       "      <td>0</td>\n",
       "      <td>0</td>\n",
       "      <td>0</td>\n",
       "      <td>0</td>\n",
       "      <td>0</td>\n",
       "      <td>0</td>\n",
       "    </tr>\n",
       "    <tr>\n",
       "      <th>3</th>\n",
       "      <td>1</td>\n",
       "      <td>0.74</td>\n",
       "      <td>5.0</td>\n",
       "      <td>0.5</td>\n",
       "      <td>0.5</td>\n",
       "      <td>0.0</td>\n",
       "      <td>0.3</td>\n",
       "      <td>0</td>\n",
       "      <td>0</td>\n",
       "      <td>0</td>\n",
       "      <td>...</td>\n",
       "      <td>0</td>\n",
       "      <td>0</td>\n",
       "      <td>0</td>\n",
       "      <td>0</td>\n",
       "      <td>1</td>\n",
       "      <td>0</td>\n",
       "      <td>0</td>\n",
       "      <td>0</td>\n",
       "      <td>0</td>\n",
       "      <td>0</td>\n",
       "    </tr>\n",
       "    <tr>\n",
       "      <th>4</th>\n",
       "      <td>1</td>\n",
       "      <td>0.61</td>\n",
       "      <td>5.0</td>\n",
       "      <td>0.5</td>\n",
       "      <td>0.5</td>\n",
       "      <td>0.0</td>\n",
       "      <td>0.3</td>\n",
       "      <td>0</td>\n",
       "      <td>0</td>\n",
       "      <td>0</td>\n",
       "      <td>...</td>\n",
       "      <td>0</td>\n",
       "      <td>0</td>\n",
       "      <td>0</td>\n",
       "      <td>0</td>\n",
       "      <td>1</td>\n",
       "      <td>0</td>\n",
       "      <td>0</td>\n",
       "      <td>0</td>\n",
       "      <td>0</td>\n",
       "      <td>0</td>\n",
       "    </tr>\n",
       "  </tbody>\n",
       "</table>\n",
       "<p>5 rows × 29 columns</p>\n",
       "</div>"
      ],
      "text/plain": [
       "   Passenger_count  Trip_distance  Fare_amount  Extra  MTA_tax  Tolls_amount  \\\n",
       "0                1           0.00          7.8    0.0      0.0           0.0   \n",
       "1                1           0.00         45.0    0.0      0.0           0.0   \n",
       "2                1           0.59          4.0    0.5      0.5           0.0   \n",
       "3                1           0.74          5.0    0.5      0.5           0.0   \n",
       "4                1           0.61          5.0    0.5      0.5           0.0   \n",
       "\n",
       "   improvement_surcharge  Pickup_Hour  JFK_related_trip  EWR_related_trip  \\\n",
       "0                    0.0            0                 0                 0   \n",
       "1                    0.0            0                 0                 0   \n",
       "2                    0.3            0                 0                 0   \n",
       "3                    0.3            0                 0                 0   \n",
       "4                    0.3            0                 0                 0   \n",
       "\n",
       "   ...  RateCodeID_3  RateCodeID_4  RateCodeID_5  RateCodeID_6  \\\n",
       "0  ...             0             0             1             0   \n",
       "1  ...             0             0             1             0   \n",
       "2  ...             0             0             0             0   \n",
       "3  ...             0             0             0             0   \n",
       "4  ...             0             0             0             0   \n",
       "\n",
       "   Payment_type_2  Payment_type_3  Payment_type_4  Payment_type_5  \\\n",
       "0               0               0               0               0   \n",
       "1               0               0               0               0   \n",
       "2               0               0               0               0   \n",
       "3               1               0               0               0   \n",
       "4               1               0               0               0   \n",
       "\n",
       "   Payment_type_6  Trip_type_2  \n",
       "0               0            1  \n",
       "1               0            1  \n",
       "2               0            0  \n",
       "3               0            0  \n",
       "4               0            0  \n",
       "\n",
       "[5 rows x 29 columns]"
      ]
     },
     "execution_count": 80,
     "metadata": {},
     "output_type": "execute_result"
    }
   ],
   "source": [
    "df.head()"
   ]
  },
  {
   "cell_type": "code",
   "execution_count": 82,
   "metadata": {
    "hidden": true
   },
   "outputs": [],
   "source": [
    "# The following function is adapted from here:\n",
    "# https://stats.stackexchange.com/questions/155028/how-to-systematically-remove-collinear-variables-in-python\n",
    "\n",
    "def calculate_vif_(X, thresh=5.0):\n",
    "    variables = list(range(X.shape[1]))\n",
    "    dropped = True\n",
    "    while dropped:\n",
    "        dropped = False\n",
    "        vif = [variance_inflation_factor(X.iloc[:, variables].values, ix)\n",
    "               for ix in range(X.iloc[:, variables].shape[1])]\n",
    "\n",
    "        maxloc = vif.index(max(vif))\n",
    "        if max(vif) > thresh:\n",
    "            print('dropping \\'' + X.iloc[:, variables].columns[maxloc] +\n",
    "                  '\\' at index: ' + str(maxloc) + '. It has a VIF of: ' + str(max(vif)))\n",
    "            del variables[maxloc]\n",
    "            dropped = True\n",
    "\n",
    "    print('Remaining variables:')\n",
    "    print(X.columns[variables])\n",
    "    return X.iloc[:, variables]"
   ]
  },
  {
   "cell_type": "code",
   "execution_count": 83,
   "metadata": {
    "hidden": true
   },
   "outputs": [
    {
     "name": "stdout",
     "output_type": "stream",
     "text": [
      "dropping 'Pickup_Week' at index: 13. It has a VIF of: 41123.657589316055\n",
      "dropping 'MTA_tax' at index: 4. It has a VIF of: 1239.374792955686\n",
      "dropping 'improvement_surcharge' at index: 5. It has a VIF of: 177.5774194667914\n",
      "dropping 'Store_and_fwd_flag_N' at index: 14. It has a VIF of: 25.725197321486203\n",
      "dropping 'RateCodeID_5' at index: 17. It has a VIF of: 21.26373997248065\n",
      "dropping 'Fare_amount' at index: 2. It has a VIF of: 12.235188946716937\n",
      "dropping 'Trip_Speed' at index: 9. It has a VIF of: 6.663554008395739\n",
      "Remaining variables:\n",
      "Index(['Passenger_count', 'Trip_distance', 'Extra', 'Tolls_amount',\n",
      "       'Pickup_Hour', 'JFK_related_trip', 'EWR_related_trip',\n",
      "       'LGA_related_trip', 'Trip_Duration', 'Pickup_Monthly_day',\n",
      "       'Pickup_Weekly_Day', 'VendorID_2', 'RateCodeID_2', 'RateCodeID_3',\n",
      "       'RateCodeID_4', 'RateCodeID_6', 'Payment_type_2', 'Payment_type_3',\n",
      "       'Payment_type_4', 'Payment_type_5', 'Payment_type_6', 'Trip_type_2'],\n",
      "      dtype='object')\n"
     ]
    }
   ],
   "source": [
    "df = calculate_vif_(df)"
   ]
  },
  {
   "cell_type": "code",
   "execution_count": 88,
   "metadata": {
    "hidden": true
   },
   "outputs": [
    {
     "name": "stdout",
     "output_type": "stream",
     "text": [
      "The number of features now is 22\n"
     ]
    }
   ],
   "source": [
    "print(\"The number of features now is\", df.shape[1])"
   ]
  },
  {
   "cell_type": "markdown",
   "metadata": {
    "hidden": true
   },
   "source": [
    "###### Modelling"
   ]
  },
  {
   "cell_type": "code",
   "execution_count": 101,
   "metadata": {
    "hidden": true
   },
   "outputs": [
    {
     "data": {
      "text/html": [
       "<div>\n",
       "<style scoped>\n",
       "    .dataframe tbody tr th:only-of-type {\n",
       "        vertical-align: middle;\n",
       "    }\n",
       "\n",
       "    .dataframe tbody tr th {\n",
       "        vertical-align: top;\n",
       "    }\n",
       "\n",
       "    .dataframe thead th {\n",
       "        text-align: right;\n",
       "    }\n",
       "</style>\n",
       "<table border=\"1\" class=\"dataframe\">\n",
       "  <thead>\n",
       "    <tr style=\"text-align: right;\">\n",
       "      <th></th>\n",
       "      <th>Passenger_count</th>\n",
       "      <th>Trip_distance</th>\n",
       "      <th>Extra</th>\n",
       "      <th>Tolls_amount</th>\n",
       "      <th>Pickup_Hour</th>\n",
       "      <th>JFK_related_trip</th>\n",
       "      <th>EWR_related_trip</th>\n",
       "      <th>LGA_related_trip</th>\n",
       "      <th>Trip_Duration</th>\n",
       "      <th>Pickup_Monthly_day</th>\n",
       "      <th>...</th>\n",
       "      <th>RateCodeID_2</th>\n",
       "      <th>RateCodeID_3</th>\n",
       "      <th>RateCodeID_4</th>\n",
       "      <th>RateCodeID_6</th>\n",
       "      <th>Payment_type_2</th>\n",
       "      <th>Payment_type_3</th>\n",
       "      <th>Payment_type_4</th>\n",
       "      <th>Payment_type_5</th>\n",
       "      <th>Payment_type_6</th>\n",
       "      <th>Trip_type_2</th>\n",
       "    </tr>\n",
       "  </thead>\n",
       "  <tbody>\n",
       "    <tr>\n",
       "      <th>0</th>\n",
       "      <td>1</td>\n",
       "      <td>0.00</td>\n",
       "      <td>0.0</td>\n",
       "      <td>0.0</td>\n",
       "      <td>0</td>\n",
       "      <td>0</td>\n",
       "      <td>0</td>\n",
       "      <td>0</td>\n",
       "      <td>0.066667</td>\n",
       "      <td>1</td>\n",
       "      <td>...</td>\n",
       "      <td>0</td>\n",
       "      <td>0</td>\n",
       "      <td>0</td>\n",
       "      <td>0</td>\n",
       "      <td>0</td>\n",
       "      <td>0</td>\n",
       "      <td>0</td>\n",
       "      <td>0</td>\n",
       "      <td>0</td>\n",
       "      <td>1</td>\n",
       "    </tr>\n",
       "    <tr>\n",
       "      <th>1</th>\n",
       "      <td>1</td>\n",
       "      <td>0.00</td>\n",
       "      <td>0.0</td>\n",
       "      <td>0.0</td>\n",
       "      <td>0</td>\n",
       "      <td>0</td>\n",
       "      <td>0</td>\n",
       "      <td>0</td>\n",
       "      <td>0.066667</td>\n",
       "      <td>1</td>\n",
       "      <td>...</td>\n",
       "      <td>0</td>\n",
       "      <td>0</td>\n",
       "      <td>0</td>\n",
       "      <td>0</td>\n",
       "      <td>0</td>\n",
       "      <td>0</td>\n",
       "      <td>0</td>\n",
       "      <td>0</td>\n",
       "      <td>0</td>\n",
       "      <td>1</td>\n",
       "    </tr>\n",
       "    <tr>\n",
       "      <th>2</th>\n",
       "      <td>1</td>\n",
       "      <td>0.59</td>\n",
       "      <td>0.5</td>\n",
       "      <td>0.0</td>\n",
       "      <td>0</td>\n",
       "      <td>0</td>\n",
       "      <td>0</td>\n",
       "      <td>0</td>\n",
       "      <td>2.566667</td>\n",
       "      <td>1</td>\n",
       "      <td>...</td>\n",
       "      <td>0</td>\n",
       "      <td>0</td>\n",
       "      <td>0</td>\n",
       "      <td>0</td>\n",
       "      <td>0</td>\n",
       "      <td>0</td>\n",
       "      <td>0</td>\n",
       "      <td>0</td>\n",
       "      <td>0</td>\n",
       "      <td>0</td>\n",
       "    </tr>\n",
       "    <tr>\n",
       "      <th>3</th>\n",
       "      <td>1</td>\n",
       "      <td>0.74</td>\n",
       "      <td>0.5</td>\n",
       "      <td>0.0</td>\n",
       "      <td>0</td>\n",
       "      <td>0</td>\n",
       "      <td>0</td>\n",
       "      <td>0</td>\n",
       "      <td>4.100000</td>\n",
       "      <td>1</td>\n",
       "      <td>...</td>\n",
       "      <td>0</td>\n",
       "      <td>0</td>\n",
       "      <td>0</td>\n",
       "      <td>0</td>\n",
       "      <td>1</td>\n",
       "      <td>0</td>\n",
       "      <td>0</td>\n",
       "      <td>0</td>\n",
       "      <td>0</td>\n",
       "      <td>0</td>\n",
       "    </tr>\n",
       "    <tr>\n",
       "      <th>4</th>\n",
       "      <td>1</td>\n",
       "      <td>0.61</td>\n",
       "      <td>0.5</td>\n",
       "      <td>0.0</td>\n",
       "      <td>0</td>\n",
       "      <td>0</td>\n",
       "      <td>0</td>\n",
       "      <td>0</td>\n",
       "      <td>4.100000</td>\n",
       "      <td>1</td>\n",
       "      <td>...</td>\n",
       "      <td>0</td>\n",
       "      <td>0</td>\n",
       "      <td>0</td>\n",
       "      <td>0</td>\n",
       "      <td>1</td>\n",
       "      <td>0</td>\n",
       "      <td>0</td>\n",
       "      <td>0</td>\n",
       "      <td>0</td>\n",
       "      <td>0</td>\n",
       "    </tr>\n",
       "  </tbody>\n",
       "</table>\n",
       "<p>5 rows × 22 columns</p>\n",
       "</div>"
      ],
      "text/plain": [
       "   Passenger_count  Trip_distance  Extra  Tolls_amount  Pickup_Hour  \\\n",
       "0                1           0.00    0.0           0.0            0   \n",
       "1                1           0.00    0.0           0.0            0   \n",
       "2                1           0.59    0.5           0.0            0   \n",
       "3                1           0.74    0.5           0.0            0   \n",
       "4                1           0.61    0.5           0.0            0   \n",
       "\n",
       "   JFK_related_trip  EWR_related_trip  LGA_related_trip  Trip_Duration  \\\n",
       "0                 0                 0                 0       0.066667   \n",
       "1                 0                 0                 0       0.066667   \n",
       "2                 0                 0                 0       2.566667   \n",
       "3                 0                 0                 0       4.100000   \n",
       "4                 0                 0                 0       4.100000   \n",
       "\n",
       "   Pickup_Monthly_day  ...  RateCodeID_2  RateCodeID_3  RateCodeID_4  \\\n",
       "0                   1  ...             0             0             0   \n",
       "1                   1  ...             0             0             0   \n",
       "2                   1  ...             0             0             0   \n",
       "3                   1  ...             0             0             0   \n",
       "4                   1  ...             0             0             0   \n",
       "\n",
       "   RateCodeID_6  Payment_type_2  Payment_type_3  Payment_type_4  \\\n",
       "0             0               0               0               0   \n",
       "1             0               0               0               0   \n",
       "2             0               0               0               0   \n",
       "3             0               1               0               0   \n",
       "4             0               1               0               0   \n",
       "\n",
       "   Payment_type_5  Payment_type_6  Trip_type_2  \n",
       "0               0               0            1  \n",
       "1               0               0            1  \n",
       "2               0               0            0  \n",
       "3               0               0            0  \n",
       "4               0               0            0  \n",
       "\n",
       "[5 rows x 22 columns]"
      ]
     },
     "execution_count": 101,
     "metadata": {},
     "output_type": "execute_result"
    }
   ],
   "source": [
    "df.head()"
   ]
  },
  {
   "cell_type": "markdown",
   "metadata": {
    "hidden": true
   },
   "source": [
    "Let's build a regression model to predict tip percentage."
   ]
  },
  {
   "cell_type": "code",
   "execution_count": 133,
   "metadata": {
    "hidden": true
   },
   "outputs": [],
   "source": [
    "X = df\n",
    "y = tripdata[\"Tip_Percent\"]\n",
    "\n",
    "# Splitting the data into train and test data.\n",
    "X_train, X_test, y_train, y_test = train_test_split(X, y, test_size = 0.25, random_state=99)"
   ]
  },
  {
   "cell_type": "markdown",
   "metadata": {
    "hidden": true
   },
   "source": [
    "Let's start with multiple linear regression (MLR)."
   ]
  },
  {
   "cell_type": "code",
   "execution_count": 134,
   "metadata": {
    "hidden": true
   },
   "outputs": [
    {
     "data": {
      "text/plain": [
       "LinearRegression(copy_X=True, fit_intercept=True, n_jobs=None,\n",
       "         normalize=False)"
      ]
     },
     "execution_count": 134,
     "metadata": {},
     "output_type": "execute_result"
    }
   ],
   "source": [
    "mlr_model = lm.LinearRegression()\n",
    "mlr_model.fit(X_train, y_train)"
   ]
  },
  {
   "cell_type": "code",
   "execution_count": 135,
   "metadata": {
    "hidden": true
   },
   "outputs": [],
   "source": [
    "y_pred_train = mlr_model.predict(X_train)\n",
    "y_pred = mlr_model.predict(X_test)"
   ]
  },
  {
   "cell_type": "code",
   "execution_count": 136,
   "metadata": {
    "hidden": true
   },
   "outputs": [
    {
     "name": "stdout",
     "output_type": "stream",
     "text": [
      " RMSE = 5.295457055657113\n",
      " R-squared = 0.6401819519261995\n"
     ]
    }
   ],
   "source": [
    "# Printing performannce metrics of the model.\n",
    "print(f\" RMSE = {np.sqrt(mt.mean_squared_error(y_train, y_pred_train))}\")\n",
    "print(f\" R-squared = {mt.r2_score(y_train, y_pred_train)}\")"
   ]
  },
  {
   "cell_type": "code",
   "execution_count": 137,
   "metadata": {
    "hidden": true
   },
   "outputs": [
    {
     "name": "stdout",
     "output_type": "stream",
     "text": [
      " RMSE = 5.314865851328019\n",
      " R-squared = 0.6402294141922933\n"
     ]
    }
   ],
   "source": [
    "# Printing performannce metrics of the model.\n",
    "print(f\" RMSE = {np.sqrt(mt.mean_squared_error(y_test, y_pred))}\")\n",
    "print(f\" R-squared = {mt.r2_score(y_test, y_pred)}\")"
   ]
  },
  {
   "cell_type": "code",
   "execution_count": 111,
   "metadata": {
    "hidden": true
   },
   "outputs": [],
   "source": [
    "# Saving the regression model to disk.\n",
    "filename = 'mlr_model.pkl'\n",
    "pickle.dump(mlr_model, open(filename, 'wb'))"
   ]
  },
  {
   "cell_type": "markdown",
   "metadata": {
    "hidden": true
   },
   "source": [
    "Let's try Random Forest Regressor."
   ]
  },
  {
   "cell_type": "code",
   "execution_count": 151,
   "metadata": {
    "hidden": true
   },
   "outputs": [
    {
     "data": {
      "image/png": "[encoded data removed]",
      "text/plain": [
       "<Figure size 432x288 with 1 Axes>"
      ]
     },
     "metadata": {
      "needs_background": "light"
     },
     "output_type": "display_data"
    }
   ],
   "source": [
    "# Drawing validation curve for max_depth.\n",
    "max_depth_values = np.array([5,15,25,30])\n",
    "train_score, val_score = validation_curve(RandomForestRegressor(n_estimators=100), X_train, y_train, 'max_depth', max_depth_values, cv=4)\n",
    "\n",
    "plt.plot(max_depth_values, np.median(train_score, 1), color='blue', label='training score')\n",
    "plt.plot(max_depth_values, np.median(val_score, 1), color='red', label='validation score')\n",
    "plt.legend(loc='best')\n",
    "plt.ylim(0, 1)\n",
    "plt.xlabel('max_depth_value')\n",
    "plt.ylabel('R squared score');"
   ]
  },
  {
   "cell_type": "markdown",
   "metadata": {
    "hidden": true
   },
   "source": [
    "If we have only one hyperparamer, then we can select the most optimal value by plotting the validation curve as shown above. However, we have multiple hyperparamers. So, it makes less sense to do this for each hyperparamter. (We have to see how model performs for different \"combinations\" of hyperparameters). So, let's use grid search."
   ]
  },
  {
   "cell_type": "code",
   "execution_count": 162,
   "metadata": {
    "hidden": true
   },
   "outputs": [],
   "source": [
    "# Specifying different values for hyperparameters.\n",
    "param_grid = {\"max_depth\": [5, 10, 15, 20],\n",
    "              \"max_features\": [\"auto\", \"sqrt\", \"log2\"],\n",
    "              \"min_samples_split\": [2, 5, 10]}\n",
    "\n",
    "regr = RandomForestRegressor(n_estimators=100, n_jobs=-1, oob_score = True) \n",
    "\n",
    "# Grid search for finding the optimal hyperparamers.\n",
    "gs_model = GridSearchCV(estimator=regr, param_grid=param_grid, cv= 4)"
   ]
  },
  {
   "cell_type": "code",
   "execution_count": 163,
   "metadata": {
    "hidden": true,
    "scrolled": true
   },
   "outputs": [
    {
     "data": {
      "text/plain": [
       "GridSearchCV(cv=4, error_score='raise-deprecating',\n",
       "       estimator=RandomForestRegressor(bootstrap=True, criterion='mse', max_depth=None,\n",
       "           max_features='auto', max_leaf_nodes=None,\n",
       "           min_impurity_decrease=0.0, min_impurity_split=None,\n",
       "           min_samples_leaf=1, min_samples_split=2,\n",
       "           min_weight_fraction_leaf=0.0, n_estimators=100, n_jobs=-1,\n",
       "           oob_score=True, random_state=None, verbose=0, warm_start=False),\n",
       "       fit_params=None, iid='warn', n_jobs=None,\n",
       "       param_grid={'max_depth': [5, 10, 15, 20], 'max_features': ['auto', 'sqrt', 'log2'], 'min_samples_split': [2, 5, 10]},\n",
       "       pre_dispatch='2*n_jobs', refit=True, return_train_score='warn',\n",
       "       scoring=None, verbose=0)"
      ]
     },
     "execution_count": 163,
     "metadata": {},
     "output_type": "execute_result"
    }
   ],
   "source": [
    "gs_model"
   ]
  },
  {
   "cell_type": "code",
   "execution_count": 164,
   "metadata": {
    "hidden": true
   },
   "outputs": [
    {
     "data": {
      "text/plain": [
       "GridSearchCV(cv=4, error_score='raise-deprecating',\n",
       "       estimator=RandomForestRegressor(bootstrap=True, criterion='mse', max_depth=None,\n",
       "           max_features='auto', max_leaf_nodes=None,\n",
       "           min_impurity_decrease=0.0, min_impurity_split=None,\n",
       "           min_samples_leaf=1, min_samples_split=2,\n",
       "           min_weight_fraction_leaf=0.0, n_estimators=100, n_jobs=-1,\n",
       "           oob_score=True, random_state=None, verbose=0, warm_start=False),\n",
       "       fit_params=None, iid='warn', n_jobs=None,\n",
       "       param_grid={'max_depth': [5, 10, 15, 20], 'max_features': ['auto', 'sqrt', 'log2'], 'min_samples_split': [2, 5, 10]},\n",
       "       pre_dispatch='2*n_jobs', refit=True, return_train_score='warn',\n",
       "       scoring=None, verbose=0)"
      ]
     },
     "execution_count": 164,
     "metadata": {},
     "output_type": "execute_result"
    }
   ],
   "source": [
    "gs_model.fit(X_train, y_train)"
   ]
  },
  {
   "cell_type": "code",
   "execution_count": 166,
   "metadata": {
    "hidden": true
   },
   "outputs": [
    {
     "data": {
      "text/plain": [
       "{'max_depth': 20, 'max_features': 'sqrt', 'min_samples_split': 5}"
      ]
     },
     "execution_count": 166,
     "metadata": {},
     "output_type": "execute_result"
    }
   ],
   "source": [
    "gs_model.best_params_"
   ]
  },
  {
   "cell_type": "code",
   "execution_count": 167,
   "metadata": {
    "hidden": true
   },
   "outputs": [],
   "source": [
    "y_pred_train = gs_model.predict(X_train)\n",
    "y_pred = gs_model.predict(X_test)"
   ]
  },
  {
   "cell_type": "code",
   "execution_count": 169,
   "metadata": {
    "hidden": true
   },
   "outputs": [
    {
     "name": "stdout",
     "output_type": "stream",
     "text": [
      " RMSE = 4.883445681790098\n",
      " R-squared = 0.6939948290341966\n"
     ]
    }
   ],
   "source": [
    "# Printing performannce metrics of the model on train data.\n",
    "print(f\" RMSE = {np.sqrt(mt.mean_squared_error(y_train, y_pred_train))}\")\n",
    "print(f\" R-squared = {mt.r2_score(y_train, y_pred_train)}\")"
   ]
  },
  {
   "cell_type": "code",
   "execution_count": 170,
   "metadata": {
    "hidden": true
   },
   "outputs": [
    {
     "name": "stdout",
     "output_type": "stream",
     "text": [
      " RMSE = 5.179235227284\n",
      " R-squared = 0.6583571699738957\n"
     ]
    }
   ],
   "source": [
    "# Printing performannce metrics of the model on test data.\n",
    "print(f\" RMSE = {np.sqrt(mt.mean_squared_error(y_test, y_pred))}\")\n",
    "print(f\" R-squared = {mt.r2_score(y_test, y_pred)}\")"
   ]
  },
  {
   "cell_type": "markdown",
   "metadata": {
    "hidden": true
   },
   "source": [
    "Let's plot the residual plot to see if there's any pattern in it (if there is, it means that the model hasn't fully extracted all info from the features)."
   ]
  },
  {
   "cell_type": "code",
   "execution_count": 171,
   "metadata": {
    "hidden": true
   },
   "outputs": [],
   "source": [
    "residual = y_test - y_pred"
   ]
  },
  {
   "cell_type": "code",
   "execution_count": 182,
   "metadata": {
    "hidden": true
   },
   "outputs": [
    {
     "data": {
      "text/plain": [
       "(-40, 40)"
      ]
     },
     "execution_count": 182,
     "metadata": {},
     "output_type": "execute_result"
    },
    {
     "data": {
      "image/png": "[encoded data removed]",
      "text/plain": [
       "<Figure size 432x288 with 1 Axes>"
      ]
     },
     "metadata": {
      "needs_background": "light"
     },
     "output_type": "display_data"
    }
   ],
   "source": [
    "# Plotting the distribution of the residuals.\n",
    "sns.distplot(residual, hist=False)\n",
    "plt.xlim(-40, 40)"
   ]
  },
  {
   "cell_type": "markdown",
   "metadata": {
    "hidden": true
   },
   "source": [
    "From the above plot, the residual is clearly centered around 0 (not perfectly though)."
   ]
  },
  {
   "cell_type": "markdown",
   "metadata": {
    "hidden": true
   },
   "source": [
    "**A few comments**:\n",
    "\n",
    "(1) There's still a lot of scope to improve the above model. We could tune all the hyperparameters with wide range of values.\n",
    "\n",
    "(2) We can try time series model (given that we can time order in dataset, we exploit the temporal variations to come up with a much more sophisticated model.\n",
    "\n",
    "(3) We could try boosting methods using packages like XGBoost, LightGBM, CatBoost, etc.\n",
    "\n",
    "(4) In the models built above, to avoid multiconinearity I have used the subset of features which have the VIF less than 5. That's not really required for ensemble methods like Random Forest though. They work reasonably well even if the features are somewhat correlated. That being said, the elimination of correlated features becomes crucial when we would using the coefficients of the regression model to explain the causal relationships between the predictors and the target variable.\n"
   ]
  },
  {
   "cell_type": "markdown",
   "metadata": {
    "heading_collapsed": true
   },
   "source": [
    "## Question 5\n",
    "\n",
    ">Part 1: Build a derived variable representing the average speed over the course of a trip."
   ]
  },
  {
   "cell_type": "markdown",
   "metadata": {
    "hidden": true
   },
   "source": [
    "I have already derived a variable for average speed during feature engineering for part 4(b). The name of the feature is: Trip_Speed. It's unit is Miles per Hour (MPH).\n",
    "\n",
    "\n",
    "Trip_Speed = Trip_distance/Trip_duration.\n",
    "\n",
    "where: Trip_duration = Dropoff_time - Pickup_time.\n",
    "\n",
    "I have taken take anomalies in the trip speed."
   ]
  },
  {
   "cell_type": "code",
   "execution_count": 188,
   "metadata": {
    "hidden": true
   },
   "outputs": [
    {
     "data": {
      "text/plain": [
       "count    1.484340e+06\n",
       "mean     1.287465e+01\n",
       "std      6.249432e+00\n",
       "min      0.000000e+00\n",
       "25%      9.323077e+00\n",
       "50%      1.176755e+01\n",
       "75%      1.504478e+01\n",
       "max      1.494340e+02\n",
       "Name: Trip_Speed, dtype: float64"
      ]
     },
     "execution_count": 188,
     "metadata": {},
     "output_type": "execute_result"
    }
   ],
   "source": [
    "tripdata[\"Trip_Speed\"].describe()"
   ]
  },
  {
   "cell_type": "markdown",
   "metadata": {
    "hidden": true
   },
   "source": [
    ">Part 2: Can you perform a test to determine if the average trip speeds are materially the same in all weeks of September? If you decide they are not the same, can you form a hypothesis regarding why they differ?"
   ]
  },
  {
   "cell_type": "markdown",
   "metadata": {
    "hidden": true
   },
   "source": [
    "Before I perform the statistical test, let me aggregate the trip speed by week using groupby method."
   ]
  },
  {
   "cell_type": "code",
   "execution_count": 189,
   "metadata": {
    "hidden": true
   },
   "outputs": [
    {
     "data": {
      "text/html": [
       "<div>\n",
       "<style scoped>\n",
       "    .dataframe tbody tr th:only-of-type {\n",
       "        vertical-align: middle;\n",
       "    }\n",
       "\n",
       "    .dataframe tbody tr th {\n",
       "        vertical-align: top;\n",
       "    }\n",
       "\n",
       "    .dataframe thead th {\n",
       "        text-align: right;\n",
       "    }\n",
       "</style>\n",
       "<table border=\"1\" class=\"dataframe\">\n",
       "  <thead>\n",
       "    <tr style=\"text-align: right;\">\n",
       "      <th></th>\n",
       "      <th>Trip_Speed</th>\n",
       "    </tr>\n",
       "    <tr>\n",
       "      <th>Pickup_Week</th>\n",
       "      <th></th>\n",
       "    </tr>\n",
       "  </thead>\n",
       "  <tbody>\n",
       "    <tr>\n",
       "      <th>1</th>\n",
       "      <td>13.316916</td>\n",
       "    </tr>\n",
       "    <tr>\n",
       "      <th>2</th>\n",
       "      <td>12.650552</td>\n",
       "    </tr>\n",
       "    <tr>\n",
       "      <th>3</th>\n",
       "      <td>12.647512</td>\n",
       "    </tr>\n",
       "    <tr>\n",
       "      <th>4</th>\n",
       "      <td>13.126582</td>\n",
       "    </tr>\n",
       "    <tr>\n",
       "      <th>5</th>\n",
       "      <td>12.463287</td>\n",
       "    </tr>\n",
       "  </tbody>\n",
       "</table>\n",
       "</div>"
      ],
      "text/plain": [
       "             Trip_Speed\n",
       "Pickup_Week            \n",
       "1             13.316916\n",
       "2             12.650552\n",
       "3             12.647512\n",
       "4             13.126582\n",
       "5             12.463287"
      ]
     },
     "execution_count": 189,
     "metadata": {},
     "output_type": "execute_result"
    }
   ],
   "source": [
    "tripdata[['Trip_Speed','Pickup_Week']].groupby('Pickup_Week').mean()"
   ]
  },
  {
   "cell_type": "code",
   "execution_count": 190,
   "metadata": {
    "hidden": true
   },
   "outputs": [
    {
     "data": {
      "image/png": "[encoded data removed]",
      "text/plain": [
       "<Figure size 432x288 with 1 Axes>"
      ]
     },
     "metadata": {
      "needs_background": "light"
     },
     "output_type": "display_data"
    }
   ],
   "source": [
    "#Boxplot of Trip Speed by week.\n",
    "tripdata.boxplot('Trip_Speed','Pickup_Week')\n",
    "plt.ylim([0,25]) \n",
    "plt.ylabel('Trip Speed by week')\n",
    "plt.show()"
   ]
  },
  {
   "cell_type": "markdown",
   "metadata": {
    "hidden": true
   },
   "source": [
    "From the aggregation table, ostensibly the means vary across weeks (but not too much). We are not sure if it's statistically significant enough to conclude that speed varies based on weeks. Therefore, let's perform hypothesis testing."
   ]
  },
  {
   "cell_type": "markdown",
   "metadata": {
    "hidden": true
   },
   "source": [
    "I'm going to use pairwise T test to statistically examine if the average trip speeds are materially the same in all weeks of September. Pairwise T test takes means of two populations as input and gives p-value. \n",
    "\n",
    ">Null Hypothesis: Two samples have same mean. $β_{1}$ = $β_{2}$\n",
    "\n",
    ">Alternative Hypothesis: Two samples have different mean. $β_{1}$ ≠ $β_{2}$\n",
    "\n",
    "We reject the null hypothesis only if the p-value is significant. In other words, we reject the null hypothesis if the estimates $β_{1}$ and $β_{2}$ are sufficiently dissimilar. \n",
    "\n",
    "How do we say if they are sufficiently dissimilar? P-value. \n",
    "\n",
    "P-value, in this context, is the probability of getting estimates $β_{1}$ and $β_{2}$ as dissimilar as we have got, under the assumption that null hypothesis is true. That is to say that if p-value is very small, then it's very unlikely that the dissimilarity happened by chance; the true means of the distribution could indeed be different.\n",
    "\n",
    "Now, we have to perform mean eqality test for 5 different weeks of September. In order to do that, we need to compare every week with every oterh week. So, in total, we need to perform 5x5 = 25 T tests.\n",
    "\n",
    "\n"
   ]
  },
  {
   "cell_type": "code",
   "execution_count": 191,
   "metadata": {
    "hidden": true
   },
   "outputs": [
    {
     "data": {
      "text/plain": [
       "array([1, 2, 3, 4, 5])"
      ]
     },
     "execution_count": 191,
     "metadata": {},
     "output_type": "execute_result"
    }
   ],
   "source": [
    "pd.unique(tripdata.Pickup_Week)"
   ]
  },
  {
   "cell_type": "code",
   "execution_count": 192,
   "metadata": {
    "hidden": true
   },
   "outputs": [
    {
     "name": "stdout",
     "output_type": "stream",
     "text": [
      "Table of p-values:\n"
     ]
    },
    {
     "data": {
      "text/html": [
       "<div>\n",
       "<style scoped>\n",
       "    .dataframe tbody tr th:only-of-type {\n",
       "        vertical-align: middle;\n",
       "    }\n",
       "\n",
       "    .dataframe tbody tr th {\n",
       "        vertical-align: top;\n",
       "    }\n",
       "\n",
       "    .dataframe thead th {\n",
       "        text-align: right;\n",
       "    }\n",
       "</style>\n",
       "<table border=\"1\" class=\"dataframe\">\n",
       "  <thead>\n",
       "    <tr style=\"text-align: right;\">\n",
       "      <th>Week_h</th>\n",
       "      <th>1</th>\n",
       "      <th>2</th>\n",
       "      <th>3</th>\n",
       "      <th>4</th>\n",
       "      <th>5</th>\n",
       "    </tr>\n",
       "    <tr>\n",
       "      <th>Week_v</th>\n",
       "      <th></th>\n",
       "      <th></th>\n",
       "      <th></th>\n",
       "      <th></th>\n",
       "      <th></th>\n",
       "    </tr>\n",
       "  </thead>\n",
       "  <tbody>\n",
       "    <tr>\n",
       "      <th>1</th>\n",
       "      <td>1.000000e+00</td>\n",
       "      <td>0.000000e+00</td>\n",
       "      <td>0.000000e+00</td>\n",
       "      <td>7.301061e-33</td>\n",
       "      <td>0.000000e+00</td>\n",
       "    </tr>\n",
       "    <tr>\n",
       "      <th>2</th>\n",
       "      <td>0.000000e+00</td>\n",
       "      <td>1.000000e+00</td>\n",
       "      <td>8.346850e-01</td>\n",
       "      <td>6.275849e-219</td>\n",
       "      <td>1.124357e-20</td>\n",
       "    </tr>\n",
       "    <tr>\n",
       "      <th>3</th>\n",
       "      <td>0.000000e+00</td>\n",
       "      <td>8.346850e-01</td>\n",
       "      <td>1.000000e+00</td>\n",
       "      <td>1.918078e-226</td>\n",
       "      <td>9.717218e-21</td>\n",
       "    </tr>\n",
       "    <tr>\n",
       "      <th>4</th>\n",
       "      <td>7.301061e-33</td>\n",
       "      <td>6.275849e-219</td>\n",
       "      <td>1.918078e-226</td>\n",
       "      <td>1.000000e+00</td>\n",
       "      <td>1.251027e-230</td>\n",
       "    </tr>\n",
       "    <tr>\n",
       "      <th>5</th>\n",
       "      <td>0.000000e+00</td>\n",
       "      <td>1.124357e-20</td>\n",
       "      <td>9.717218e-21</td>\n",
       "      <td>1.251027e-230</td>\n",
       "      <td>1.000000e+00</td>\n",
       "    </tr>\n",
       "  </tbody>\n",
       "</table>\n",
       "</div>"
      ],
      "text/plain": [
       "Week_h             1              2              3              4  \\\n",
       "Week_v                                                              \n",
       "1       1.000000e+00   0.000000e+00   0.000000e+00   7.301061e-33   \n",
       "2       0.000000e+00   1.000000e+00   8.346850e-01  6.275849e-219   \n",
       "3       0.000000e+00   8.346850e-01   1.000000e+00  1.918078e-226   \n",
       "4       7.301061e-33  6.275849e-219  1.918078e-226   1.000000e+00   \n",
       "5       0.000000e+00   1.124357e-20   9.717218e-21  1.251027e-230   \n",
       "\n",
       "Week_h              5  \n",
       "Week_v                 \n",
       "1        0.000000e+00  \n",
       "2        1.124357e-20  \n",
       "3        9.717218e-21  \n",
       "4       1.251027e-230  \n",
       "5        1.000000e+00  "
      ]
     },
     "execution_count": 192,
     "metadata": {},
     "output_type": "execute_result"
    }
   ],
   "source": [
    "# Perfomring 25 T tests. Each week with every other week.\n",
    "Sept_Weeks = pd.unique(tripdata.Pickup_Week)\n",
    "\n",
    "\n",
    "p_value_by_hour = []\n",
    "\n",
    "for m in range(1, 6):\n",
    "    for n in range(1, 6):\n",
    "        p_value_by_hour.append(\n",
    "            (\n",
    "                m,\n",
    "                n,\n",
    "                st.ttest_ind(\n",
    "                    tripdata[tripdata[\"Pickup_Week\"] == m][\"Trip_Speed\"],\n",
    "                    tripdata[tripdata[\"Pickup_Week\"] == n][\"Trip_Speed\"],\n",
    "                )[1],\n",
    "            )\n",
    "        )\n",
    "\n",
    "p_values_table = pd.DataFrame(p_value_by_hour, columns=[\"Week_v\", \"Week_h\", \"p_value\"])\n",
    "print(\"Table of p-values:\")\n",
    "p_values_table.pivot_table(index=\"Week_v\", columns=\"Week_h\", values=\"p_value\")"
   ]
  },
  {
   "cell_type": "markdown",
   "metadata": {
    "hidden": true
   },
   "source": [
    "**Interpretation:** "
   ]
  },
  {
   "cell_type": "markdown",
   "metadata": {
    "hidden": true
   },
   "source": [
    "Interpretation of p value: It's the probability of getting t-statistic as extreme as the one we obtained under the assumption that null hypothesis is true (which is that average speed is same across all the weeks of Stemeber). "
   ]
  },
  {
   "cell_type": "markdown",
   "metadata": {
    "hidden": true
   },
   "source": [
    "Since p-values of most of the 25 statitical tests are less than the significance level (0.05), it's unlikely that we got the the results out of chance. We can say that the dissimilarity of the means are statistically significant. Therefore, we reject null hypothesis. We accept the alternative hypothesis that average speed is not same across different weeks of the month."
   ]
  },
  {
   "cell_type": "markdown",
   "metadata": {
    "hidden": true
   },
   "source": [
    "Alternatively, we can also perform one-way ANOVA tests to check the null hypothesis that two or more groups have the same population mean. Let me do that as well."
   ]
  },
  {
   "cell_type": "code",
   "execution_count": 193,
   "metadata": {
    "hidden": true
   },
   "outputs": [],
   "source": [
    "weekwise_data = []\n",
    "\n",
    "# Extracting trip speed for each week.\n",
    "for w in pd.unique(tripdata.Pickup_Week):\n",
    "    weekwise_data.append(tripdata[tripdata['Pickup_Week'] == w].Trip_Speed.as_matrix())    "
   ]
  },
  {
   "cell_type": "code",
   "execution_count": 194,
   "metadata": {
    "hidden": true
   },
   "outputs": [
    {
     "data": {
      "text/plain": [
       "F_onewayResult(statistic=887.4110863718852, pvalue=0.0)"
      ]
     },
     "execution_count": 194,
     "metadata": {},
     "output_type": "execute_result"
    }
   ],
   "source": [
    "#Performing one-way ANOVA test.\n",
    "st.f_oneway(*weekwise_data)"
   ]
  },
  {
   "cell_type": "markdown",
   "metadata": {
    "hidden": true
   },
   "source": [
    "**Interpretation:** Since the F value is very high and p-value is almost 0, we reject the null hypothesis that average trip speeds are materially the same in all weeks of September. The difference between average speed in different weeks is statistically significcant. Therefore, we accept the alternative hypothesis that average trip speeds are not same in all weeks of September."
   ]
  },
  {
   "cell_type": "markdown",
   "metadata": {
    "hidden": true
   },
   "source": [
    "###### Hypothesis regarding why average trip speed differ across weeks:\n",
    "\n",
    "Evidently, average trip speed varies across different weeks of the month. In fact, they are in the order: 1st week > 4th week > 2nd week > 3rd week > 5 week.\n",
    "\n",
    "We could hypothesize that traffic congestion varies based on time of the month which in turn affects the average trip speed. The level of traffic congestion is one of the main determinants of average speed.  As we can observe in our aggregated data, the average speed is highest in the first weke of the month and lowest in fifth week. It could be that people travel more at the outset of the month. \n",
    "\n",
    "These variations could also be driven by specific events which happened in the city in Sept 2015. Music concerts, sports events can influence the traffic congestion and average trip speed. US Open Tennis tournament, for example, has happened in New York City during September, 2015. Events like these would have non-trivial effect the trip speed variation. By analysing the average speed during other months (August, October, November, etc of 2015), we may be able to make confident assertions about the variation of average speed across time. "
   ]
  },
  {
   "cell_type": "markdown",
   "metadata": {
    "hidden": true
   },
   "source": [
    ">Part 3: Can you build up a hypothesis of average trip speed as a function of time of day?"
   ]
  },
  {
   "cell_type": "code",
   "execution_count": 195,
   "metadata": {
    "hidden": true
   },
   "outputs": [
    {
     "data": {
      "text/html": [
       "<div>\n",
       "<style scoped>\n",
       "    .dataframe tbody tr th:only-of-type {\n",
       "        vertical-align: middle;\n",
       "    }\n",
       "\n",
       "    .dataframe tbody tr th {\n",
       "        vertical-align: top;\n",
       "    }\n",
       "\n",
       "    .dataframe thead th {\n",
       "        text-align: right;\n",
       "    }\n",
       "</style>\n",
       "<table border=\"1\" class=\"dataframe\">\n",
       "  <thead>\n",
       "    <tr style=\"text-align: right;\">\n",
       "      <th></th>\n",
       "      <th>Trip_Speed</th>\n",
       "    </tr>\n",
       "    <tr>\n",
       "      <th>Pickup_Hour</th>\n",
       "      <th></th>\n",
       "    </tr>\n",
       "  </thead>\n",
       "  <tbody>\n",
       "    <tr>\n",
       "      <th>0</th>\n",
       "      <td>14.593725</td>\n",
       "    </tr>\n",
       "    <tr>\n",
       "      <th>1</th>\n",
       "      <td>14.849105</td>\n",
       "    </tr>\n",
       "    <tr>\n",
       "      <th>2</th>\n",
       "      <td>15.027386</td>\n",
       "    </tr>\n",
       "    <tr>\n",
       "      <th>3</th>\n",
       "      <td>15.403642</td>\n",
       "    </tr>\n",
       "    <tr>\n",
       "      <th>4</th>\n",
       "      <td>16.247233</td>\n",
       "    </tr>\n",
       "    <tr>\n",
       "      <th>5</th>\n",
       "      <td>17.979547</td>\n",
       "    </tr>\n",
       "    <tr>\n",
       "      <th>6</th>\n",
       "      <td>16.985343</td>\n",
       "    </tr>\n",
       "    <tr>\n",
       "      <th>7</th>\n",
       "      <td>13.491539</td>\n",
       "    </tr>\n",
       "    <tr>\n",
       "      <th>8</th>\n",
       "      <td>12.290240</td>\n",
       "    </tr>\n",
       "    <tr>\n",
       "      <th>9</th>\n",
       "      <td>12.563588</td>\n",
       "    </tr>\n",
       "    <tr>\n",
       "      <th>10</th>\n",
       "      <td>12.529862</td>\n",
       "    </tr>\n",
       "    <tr>\n",
       "      <th>11</th>\n",
       "      <td>12.252951</td>\n",
       "    </tr>\n",
       "    <tr>\n",
       "      <th>12</th>\n",
       "      <td>12.126711</td>\n",
       "    </tr>\n",
       "    <tr>\n",
       "      <th>13</th>\n",
       "      <td>12.056417</td>\n",
       "    </tr>\n",
       "    <tr>\n",
       "      <th>14</th>\n",
       "      <td>11.548876</td>\n",
       "    </tr>\n",
       "    <tr>\n",
       "      <th>15</th>\n",
       "      <td>11.176643</td>\n",
       "    </tr>\n",
       "    <tr>\n",
       "      <th>16</th>\n",
       "      <td>10.941366</td>\n",
       "    </tr>\n",
       "    <tr>\n",
       "      <th>17</th>\n",
       "      <td>10.923984</td>\n",
       "    </tr>\n",
       "    <tr>\n",
       "      <th>18</th>\n",
       "      <td>11.503578</td>\n",
       "    </tr>\n",
       "    <tr>\n",
       "      <th>19</th>\n",
       "      <td>12.050982</td>\n",
       "    </tr>\n",
       "    <tr>\n",
       "      <th>20</th>\n",
       "      <td>12.745299</td>\n",
       "    </tr>\n",
       "    <tr>\n",
       "      <th>21</th>\n",
       "      <td>13.592028</td>\n",
       "    </tr>\n",
       "    <tr>\n",
       "      <th>22</th>\n",
       "      <td>14.058186</td>\n",
       "    </tr>\n",
       "    <tr>\n",
       "      <th>23</th>\n",
       "      <td>14.343087</td>\n",
       "    </tr>\n",
       "  </tbody>\n",
       "</table>\n",
       "</div>"
      ],
      "text/plain": [
       "             Trip_Speed\n",
       "Pickup_Hour            \n",
       "0             14.593725\n",
       "1             14.849105\n",
       "2             15.027386\n",
       "3             15.403642\n",
       "4             16.247233\n",
       "5             17.979547\n",
       "6             16.985343\n",
       "7             13.491539\n",
       "8             12.290240\n",
       "9             12.563588\n",
       "10            12.529862\n",
       "11            12.252951\n",
       "12            12.126711\n",
       "13            12.056417\n",
       "14            11.548876\n",
       "15            11.176643\n",
       "16            10.941366\n",
       "17            10.923984\n",
       "18            11.503578\n",
       "19            12.050982\n",
       "20            12.745299\n",
       "21            13.592028\n",
       "22            14.058186\n",
       "23            14.343087"
      ]
     },
     "execution_count": 195,
     "metadata": {},
     "output_type": "execute_result"
    }
   ],
   "source": [
    "tripdata[['Trip_Speed','Pickup_Hour']].groupby('Pickup_Hour').mean()"
   ]
  },
  {
   "cell_type": "markdown",
   "metadata": {
    "hidden": true
   },
   "source": [
    "Hypothesis:\n",
    "\n",
    "We have perform a statistical test to check if the average trip speeds are materially the same in all hours of the day. \n",
    "\n",
    ">Null Hypothesis: The trip speed is same in all hours of the day.\n",
    "\n",
    ">Alternative Hypothesis: The trip speed are not same in all hours of the day.\n",
    "\n",
    "We reject the null hypothesis only if the p-value is significant. In other words, we reject the null hypothesis if the means of the trip speeds are sufficiently dissimilar. \n",
    "\n"
   ]
  },
  {
   "cell_type": "markdown",
   "metadata": {
    "hidden": true
   },
   "source": [
    "Before performing the statisitcal test, let's plot the trip speed by hour of the day and see if anything is visually apparent."
   ]
  },
  {
   "cell_type": "code",
   "execution_count": 196,
   "metadata": {
    "hidden": true
   },
   "outputs": [
    {
     "data": {
      "image/png": "[encoded data removed]",
      "text/plain": [
       "<Figure size 432x288 with 1 Axes>"
      ]
     },
     "metadata": {
      "needs_background": "light"
     },
     "output_type": "display_data"
    }
   ],
   "source": [
    "#Boxplot of Trip Speed by hour.\n",
    "tripdata.boxplot('Trip_Speed','Pickup_Hour')\n",
    "plt.ylim([3,25]) \n",
    "plt.ylabel('Trip Speed by hour (miles per hour)')\n",
    "plt.show()"
   ]
  },
  {
   "cell_type": "markdown",
   "metadata": {
    "hidden": true
   },
   "source": [
    "It's evident from the above boxplots that the average trip speed reaches its pinnacle at 5AM and then slowly decreases and reaches the lowest point at 5PM. After 5PM, it slowly increases till the midnight. The reason for higher speed in the early morning (from 3AM to 6AM) could be that there'd be minimal traffic congestion during that time. "
   ]
  },
  {
   "cell_type": "markdown",
   "metadata": {
    "hidden": true
   },
   "source": [
    "Looking at the above aggregation, it seems like the speed varies based on hour of the day. Let me perform ANOVA test to check if it's statistically significant. "
   ]
  },
  {
   "cell_type": "code",
   "execution_count": 197,
   "metadata": {
    "hidden": true
   },
   "outputs": [
    {
     "name": "stdout",
     "output_type": "stream",
     "text": [
      "The result of ANOVA test: F_onewayResult(statistic=4243.462409703313, pvalue=0.0)\n"
     ]
    }
   ],
   "source": [
    "hourly_list = list()\n",
    "\n",
    "for i in range(0, 24):\n",
    "    hourly_list.append(tripdata[tripdata[\"Pickup_Hour\"] == i].Trip_Speed.as_matrix())\n",
    "\n",
    "anova_test = st.f_oneway(*hourly_list)\n",
    "\n",
    "print(\"The result of ANOVA test:\", anova_test)"
   ]
  },
  {
   "cell_type": "markdown",
   "metadata": {
    "hidden": true
   },
   "source": [
    "**Interpretation:** \n",
    "\n",
    "Interpretation of p-value: This is the probability of getting an F-statistic value as extreme as 4243.46 under the assumption that null hypothesis is true (which is that average speed is same throughout the day). Since p-value is essentially 0, we can say that we did not get this  extreme F-statistic out of chance. The difference in average speed across different hours in a day is statistically significant. We reject the null hypothesis tha tthey are same. We accept the alternative hypothesis that average speed is not same throughout the day."
   ]
  },
  {
   "cell_type": "markdown",
   "metadata": {
    "hidden": true
   },
   "source": [
    "--------------"
   ]
  }
 ],
 "metadata": {
  "kernelspec": {
   "display_name": "Python 3",
   "language": "python",
   "name": "python3"
  },
  "language_info": {
   "codemirror_mode": {
    "name": "ipython",
    "version": 3
   },
   "file_extension": ".py",
   "mimetype": "text/x-python",
   "name": "python",
   "nbconvert_exporter": "python",
   "pygments_lexer": "ipython3",
   "version": "3.7.3"
  },
  "varInspector": {
   "cols": {
    "lenName": 16,
    "lenType": 16,
    "lenVar": 40
   },
   "kernels_config": {
    "python": {
     "delete_cmd_postfix": "",
     "delete_cmd_prefix": "del ",
     "library": "var_list.py",
     "varRefreshCmd": "print(var_dic_list())"
    },
    "r": {
     "delete_cmd_postfix": ") ",
     "delete_cmd_prefix": "rm(",
     "library": "var_list.r",
     "varRefreshCmd": "cat(var_dic_list()) "
    }
   },
   "types_to_exclude": [
    "module",
    "function",
    "builtin_function_or_method",
    "instance",
    "_Feature"
   ],
   "window_display": false
  }
 },
 "nbformat": 4,
 "nbformat_minor": 2
}
